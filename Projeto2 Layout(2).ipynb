{
 "cells": [
  {
   "cell_type": "markdown",
   "metadata": {},
   "source": [
    "___\n",
    "# Ciência dos Dados - PROJETO 2"
   ]
  },
  {
   "cell_type": "markdown",
   "metadata": {},
   "source": [
    "___\n",
    "## Gabriel Couto\n",
    "\n",
    "\n",
    "## Gabriel Miras\n",
    "\n",
    "\n",
    "## Mariana Abrantes\n",
    "\n",
    "\n",
    "___"
   ]
  },
  {
   "cell_type": "markdown",
   "metadata": {},
   "source": [
    "___\n",
    "\n",
    "## 1. Problema\n",
    "\n",
    "O Classificador Naive-Bayes, o qual se baseia no uso do teorema de Bayes, é largamente utilizado em filtros anti-spam de e-mails. O classificador permite calcular qual a probabilidade de uma mensagem ser SPAM considerando as palavras em seu conteúdo e, de forma complementar, permite calcular a probabilidade de uma mensagem ser HAM dada as palavras descritas na mensagem.\n",
    "\n",
    "Para realizar o MVP (minimum viable product) do projeto, você precisa programar uma versão do classificador que \"aprende\" o que é uma mensagem SPAM considerando uma base de treinamento e comparar o desempenho dos resultados com uma base de testes. \n"
   ]
  },
  {
   "cell_type": "markdown",
   "metadata": {},
   "source": [
    "___\n",
    "## 2. Separação da base de dados em Treinamento e Teste\n",
    "\n",
    "A base de dados deve ser separada em duas partes, aleatoriamente, considerando: \n",
    "    \n",
    "    75% dos dados para a parte Treinamento; e\n",
    "    25% dos dados para a parte Teste."
   ]
  },
  {
   "cell_type": "code",
   "execution_count": 5,
   "metadata": {},
   "outputs": [],
   "source": [
    "import pandas as pd\n",
    "import os\n",
    "import random\n",
    "import numpy as np"
   ]
  },
  {
   "cell_type": "code",
   "execution_count": 8,
   "metadata": {},
   "outputs": [
    {
     "name": "stdout",
     "output_type": "stream",
     "text": [
      "Esperamos trabalhar no diretório\n",
      "C:\\Users\\Gabriel Miras\\Documents\\INSPER\\3 SEMESTRE (DP)\\C DADOS DP\\Projetos\\Projeto 2\\DP-P2\n"
     ]
    }
   ],
   "source": [
    "print('Esperamos trabalhar no diretório')\n",
    "print(os.getcwd())"
   ]
  },
  {
   "cell_type": "code",
   "execution_count": 3,
   "metadata": {},
   "outputs": [
    {
     "data": {
      "text/html": [
       "<div>\n",
       "<style scoped>\n",
       "    .dataframe tbody tr th:only-of-type {\n",
       "        vertical-align: middle;\n",
       "    }\n",
       "\n",
       "    .dataframe tbody tr th {\n",
       "        vertical-align: top;\n",
       "    }\n",
       "\n",
       "    .dataframe thead th {\n",
       "        text-align: right;\n",
       "    }\n",
       "</style>\n",
       "<table border=\"1\" class=\"dataframe\">\n",
       "  <thead>\n",
       "    <tr style=\"text-align: right;\">\n",
       "      <th></th>\n",
       "      <th>Email</th>\n",
       "      <th>Class</th>\n",
       "    </tr>\n",
       "  </thead>\n",
       "  <tbody>\n",
       "    <tr>\n",
       "      <th>0</th>\n",
       "      <td>Go until jurong point, crazy.. Available only ...</td>\n",
       "      <td>ham</td>\n",
       "    </tr>\n",
       "    <tr>\n",
       "      <th>1</th>\n",
       "      <td>Ok lar... Joking wif u oni...</td>\n",
       "      <td>ham</td>\n",
       "    </tr>\n",
       "    <tr>\n",
       "      <th>2</th>\n",
       "      <td>Free entry in 2 a wkly comp to win FA Cup fina...</td>\n",
       "      <td>spam</td>\n",
       "    </tr>\n",
       "    <tr>\n",
       "      <th>3</th>\n",
       "      <td>U dun say so early hor... U c already then say...</td>\n",
       "      <td>ham</td>\n",
       "    </tr>\n",
       "    <tr>\n",
       "      <th>4</th>\n",
       "      <td>Nah I don't think he goes to usf, he lives aro...</td>\n",
       "      <td>ham</td>\n",
       "    </tr>\n",
       "  </tbody>\n",
       "</table>\n",
       "</div>"
      ],
      "text/plain": [
       "                                               Email Class\n",
       "0  Go until jurong point, crazy.. Available only ...   ham\n",
       "1                      Ok lar... Joking wif u oni...   ham\n",
       "2  Free entry in 2 a wkly comp to win FA Cup fina...  spam\n",
       "3  U dun say so early hor... U c already then say...   ham\n",
       "4  Nah I don't think he goes to usf, he lives aro...   ham"
      ]
     },
     "execution_count": 3,
     "metadata": {},
     "output_type": "execute_result"
    }
   ],
   "source": [
    "leitura = pd.ExcelFile('spamham2019(1).xlsx')\n",
    "dados = pd.read_excel(leitura)\n",
    "dados.head()"
   ]
  },
  {
   "cell_type": "code",
   "execution_count": 4,
   "metadata": {},
   "outputs": [],
   "source": [
    "#Separar tabela em treino e teste:\n",
    "indices = range(len(dados))\n",
    "indTreino = random.sample(indices, int(len(indices)*0.75))\n",
    "indTeste = []\n",
    "for i in indices:\n",
    "    if i not in indTreino:\n",
    "        indTeste.append(i)\n",
    "\n",
    "treino = dados.loc[indTreino,:]\n",
    "teste = dados.loc[indTeste,:]\n",
    "\n",
    "#Cria índices numéricos pros dados\n",
    "treino.index = range(len(treino))\n",
    "teste.index = range(len(teste))"
   ]
  },
  {
   "cell_type": "markdown",
   "metadata": {},
   "source": [
    "# Limpando a base de dados"
   ]
  },
  {
   "cell_type": "code",
   "execution_count": 5,
   "metadata": {},
   "outputs": [],
   "source": [
    "tirar = ['!','@','#','$','%','¨','&','*','(',')','-','_','+','=','§',',','.','<','>',':',';','/','?','°','|','\\\\','{','}','ª','[',']','º','×','–','—','•','…','‹','›','€','1','2','3','4','5','6','7','8','9','0']\n",
    "for i in tirar:\n",
    "    treino.Email = treino.Email.str.replace(i, '', regex=False)\n",
    "    teste.Email = teste.Email.str.replace(i, '', regex=False)"
   ]
  },
  {
   "cell_type": "code",
   "execution_count": 6,
   "metadata": {},
   "outputs": [],
   "source": [
    "#CRIAR TABELA DE FREQUENCIA DE CADA PALAVRA\n",
    "freq = {} #Tabela de frequências \n",
    "#Dicionario tabela de frequências:\n",
    "    #   'H' = nº de vezes que determinada palavra aparece em email Ham\n",
    "    #   'S' = nº de vezes que determinada palavra aparece em email Spam \n",
    "    #'pPiH' = P(P∩R) = prob de determinada palavra aparecer num email Ham\n",
    "    #'pPiS' = P(P∩S) = prob de determinada palavra aparecer num email spam\n",
    "    #'pPcH' = P(P|H) = prob de determinada palavra aparecer dado que o email é Ham\n",
    "    #'pPcS' = P(P|S) = prob de determinada palavra aparecer dado que o email é Spam\n",
    "\n",
    "for numLinha in range(len(treino.Email)): \n",
    "    palavras_linha = treino.loc[numLinha,'Email'].split(' ')\n",
    "    for palavra in palavras_linha:\n",
    "        if palavra not in freq:\n",
    "            freq[palavra] = {'H':0,'S':0,'pPiH':0,'pPiS':0,'pPcH':0,'pPcS':0}\n",
    "        if treino.loc[numLinha,'Class'] == 'ham':\n",
    "            freq[palavra]['H'] +=1\n",
    "        else:\n",
    "            freq[palavra]['S'] +=1"
   ]
  },
  {
   "cell_type": "code",
   "execution_count": 84,
   "metadata": {},
   "outputs": [],
   "source": [
    "#PH = Prob do email ser Ham | PS = Prob email ser Spam\n",
    "PH = len(treino[treino['Class']=='ham'])/len(treino)\n",
    "PS = len(treino[treino['Class']=='spam'])/len(treino)\n",
    "\n",
    "palavrasH,palavrasS = 0,0 #total de palavras em emails HAM e total de palavras em emails Spam (contando repetições das palavras)\n",
    "for key,valor in freq.items():  \n",
    "    palavrasH += valor['H']\n",
    "    palavrasS += valor['S']\n",
    "totalPalavras = palavrasH + palavrasS\n",
    "\n",
    "for palavra,valor in freq.items():\n",
    "    #Prob de determinada palavra aparecer:\n",
    "    pP = (valor['H']+valor['S'])/totalPalavras\n",
    "    \n",
    "    #adicionamos 1 ao numerador para que a probabilidade nunca dê zero\n",
    "    freq[palavra]['pP'] = pP\n",
    "    freq[palavra]['pPiH'] = (valor['H']+1)/(totalPalavras+1) #(2*totalR+totalI)\n",
    "    freq[palavra]['pPiS'] = (valor['S']+1)/(totalPalavras+1) #/(2*totalI+totalR)\n",
    "    \n",
    "    freq[palavra]['pPcH'] = freq[palavra]['pPiH']/PH\n",
    "    freq[palavra]['pPcS'] = freq[palavra]['pPiS']/PS"
   ]
  },
  {
   "cell_type": "markdown",
   "metadata": {},
   "source": [
    "___\n",
    "## 3. Classificador Naive-Bayes"
   ]
  },
  {
   "cell_type": "code",
   "execution_count": 86,
   "metadata": {},
   "outputs": [],
   "source": [
    "mensagens={}\n",
    "\n",
    "for numLinha in range(len(teste.Email)): \n",
    "    palavras_linha = teste.loc[numLinha,'Email'].split(' ')\n",
    "    mensagens[numLinha] = {'Email':teste.loc[numLinha,'Email']}\n",
    "    pLH,pLS =1,1    \n",
    "    \n",
    "    for palavra in palavras_linha:       \n",
    "        if palavra in freq:\n",
    "            pLH*= freq[palavra]['pPiH']/freq[palavra]['pP']\n",
    "            pLS*= freq[palavra]['pPiS']/freq[palavra]['pP']\n",
    "    \n",
    "    mensagens[numLinha]['pLH'] = pLH\n",
    "    mensagens[numLinha]['pLS'] = pLS\n",
    "    \n",
    "    if pLS > pLH:\n",
    "        mensagens[numLinha]['Classe'] = 'spam'\n",
    "    else:\n",
    "        mensagens[numLinha]['Classe'] = 'ham'\n",
    "        \n",
    "        #E se a palavra não tiver na tabela de freq finge que ela n existe?"
   ]
  },
  {
   "cell_type": "markdown",
   "metadata": {},
   "source": [
    "___\n",
    "## 4. Qualidade do Classificador alterando a base de treinamento"
   ]
  },
  {
   "cell_type": "code",
   "execution_count": 88,
   "metadata": {},
   "outputs": [
    {
     "name": "stdout",
     "output_type": "stream",
     "text": [
      "Verdadeiros Relevantes :  1195\n",
      "Verdadeiros Irrelevantes :  121\n",
      "Relevantes dados como irrelevantes:  76\n",
      "Irrelevantes dados como relevantes :  1\n",
      "\n",
      "Precisão de acerto dos relevantes: 77.0\n",
      "Precisão de acerto dos irrelevantes: 2.0\n"
     ]
    }
   ],
   "source": [
    "VerRel, VerIre, FalIre, FalRel = 0,0,0,0\n",
    "for numLinha in range(len(mensagens)):\n",
    "    if (teste.loc[numLinha,'Class'] == 'ham')&(mensagens[numLinha]['Classe'] == 'ham'): #Verdadeiro relevante\n",
    "        VerRel+=1\n",
    "    if (teste.loc[numLinha,'Class'] == 'spam')&(mensagens[numLinha]['Classe'] == 'spam'): #Irrelevantes realmente irrelevantes\n",
    "        VerIre+=1\n",
    "    if (teste.loc[numLinha,'Class'] == 'spam')&(mensagens[numLinha]['Classe'] == 'ham'): #Relevantes que foram dados como irrelevantes\n",
    "        FalIre+=1\n",
    "    if (teste.loc[numLinha,'Class'] == 'ham')&(mensagens[numLinha]['Classe'] == 'spam'): #Irrelevantes que foram dados como relevantes\n",
    "        FalRel+=1\n",
    "\n",
    "print('Verdadeiros Relevantes : ',VerRel)\n",
    "print('Verdadeiros Irrelevantes : ',VerIre)\n",
    "print('Relevantes dados como irrelevantes: ',FalIre)\n",
    "print('Irrelevantes dados como relevantes : ',FalRel)\n",
    "print()\n",
    "print('Precisão de acerto dos relevantes:',VerRel/VerRel+FalIre)\n",
    "print('Precisão de acerto dos irrelevantes:',VerIre/VerIre+FalRel)"
   ]
  }
 ],
 "metadata": {
  "anaconda-cloud": {},
  "kernelspec": {
   "display_name": "Python 3",
   "language": "python",
   "name": "python3"
  },
  "language_info": {
   "codemirror_mode": {
    "name": "ipython",
    "version": 3
   },
   "file_extension": ".py",
   "mimetype": "text/x-python",
   "name": "python",
   "nbconvert_exporter": "python",
   "pygments_lexer": "ipython3",
   "version": "3.6.4"
  }
 },
 "nbformat": 4,
 "nbformat_minor": 1
}
