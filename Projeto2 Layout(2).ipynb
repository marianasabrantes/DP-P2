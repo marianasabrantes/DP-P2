{
 "cells": [
  {
   "cell_type": "markdown",
   "metadata": {},
   "source": [
    "___\n",
    "# Ciência dos Dados - PROJETO 2"
   ]
  },
  {
   "cell_type": "markdown",
   "metadata": {},
   "source": [
    "___\n",
    "## Nomes:  Gabriel Couto, Gabriel Miras e Mariana Abrantes\n",
    "___"
   ]
  },
  {
   "cell_type": "markdown",
   "metadata": {},
   "source": [
    "___\n",
    "\n",
    "## 1. Problema\n",
    "\n",
    "O Classificador Naive-Bayes, o qual se baseia no uso do teorema de Bayes, é largamente utilizado em filtros anti-spam de e-mails. O classificador permite calcular qual a probabilidade de uma mensagem ser SPAM considerando as palavras em seu conteúdo e, de forma complementar, permite calcular a probabilidade de uma mensagem ser HAM dada as palavras descritas na mensagem.\n",
    "\n",
    "Para realizar o MVP (minimum viable product) do projeto, você precisa programar uma versão do classificador que \"aprende\" o que é uma mensagem SPAM considerando uma base de treinamento e comparar o desempenho dos resultados com uma base de testes. \n"
   ]
  },
  {
   "cell_type": "markdown",
   "metadata": {},
   "source": [
    "___\n",
    "## 2. Separação da base de dados em Treinamento e Teste\n",
    "\n",
    "A base de dados deve ser separada em duas partes, aleatoriamente, considerando: \n",
    "    \n",
    "    75% dos dados para a parte Treinamento; e\n",
    "    25% dos dados para a parte Teste."
   ]
  },
  {
   "cell_type": "code",
   "execution_count": 55,
   "metadata": {},
   "outputs": [],
   "source": [
    "import pandas as pd\n",
    "import os\n",
    "import random\n",
    "import numpy as np\n",
    "import re\n",
    "import time\n",
    "from random import randint"
   ]
  },
  {
   "cell_type": "code",
   "execution_count": 2,
   "metadata": {},
   "outputs": [],
   "source": [
    "#Carregar dados:\n",
    "leitura = pd.ExcelFile('spamham2019(1).xlsx')\n",
    "dados = pd.read_excel(leitura)"
   ]
  },
  {
   "cell_type": "code",
   "execution_count": 3,
   "metadata": {},
   "outputs": [],
   "source": [
    "#SEPARAR EM TREINO E TESTE\n",
    "treinoOrig=dados.sample(frac=0.75,random_state=200)\n",
    "testeOrig=dados.drop(treinoOrig.index)\n",
    "\n",
    "#Cria índices numéricos pros dataframes\n",
    "treinoOrig.index = range(len(treinoOrig))\n",
    "testeOrig.index = range(len(testeOrig))"
   ]
  },
  {
   "cell_type": "markdown",
   "metadata": {},
   "source": [
    "#  Limpando a base de dados"
   ]
  },
  {
   "cell_type": "markdown",
   "metadata": {},
   "source": [
    "#### 1) Para usar o mesmo filtro no teste e no treino criamos a função limparDados"
   ]
  },
  {
   "cell_type": "code",
   "execution_count": 4,
   "metadata": {},
   "outputs": [],
   "source": [
    "def limparDados(df):   \n",
    "    #Cria uma cópia do dataframe pra não adulterar os originais\n",
    "    dfLimpo = df.copy(deep=True)\n",
    "    \n",
    "    #Pega cada linha de df:\n",
    "    for numLinha in range(len(dfLimpo)):\n",
    "        linha = dfLimpo.loc[numLinha,'Email'].lower() #Linha com tudo em minúsculo\n",
    "        \n",
    "        #Subtitui caracteres que não forem letras ou espaços por espaços:\n",
    "        linhaL = re.sub(r\"[^a-z ]\",' ',linha)\n",
    "        \n",
    "        palavrasFiltradas=[]\n",
    "        #Para cada palavra da linha de df:\n",
    "        for palavra in linhaL.split(' '):\n",
    "            palavraLimpa = re.sub(r\"[^a-z]\",'',palavra)\n",
    "            \n",
    "            #Se a palavra tiver mais que 1 caractere:\n",
    "            if len(palavraLimpa) > 1:\n",
    "                palavrasFiltradas.append(palavraLimpa)\n",
    "\n",
    "        #Transformando em linha de novo\n",
    "        linhaLimpa = \" \".join(palavrasFiltradas)\n",
    "        dfLimpo.loc[numLinha,'Email'] = linhaLimpa\n",
    "\n",
    "    return(dfLimpo)\n",
    "\n",
    "teste = limparDados(testeOrig)\n",
    "treino = limparDados(treinoOrig)"
   ]
  },
  {
   "cell_type": "markdown",
   "metadata": {},
   "source": [
    "##### 2) Criar tabela de frequências de cada palavra:\n",
    "Dicionario tabela de frequências:<br>\n",
    "&emsp; A &emsp; = nº de vezes que determinada palavra aparece em email Ham <br>\n",
    "&emsp; B &emsp; = nº de vezes que determinada palavra aparece em email Spam <br>\n",
    "&emsp; pPiA = P(P∩A) = prob de determinada palavra aparecer num email Ham <br>\n",
    "&emsp; pPiB = P(P∩B) = prob de determinada palavra aparecer num email spam <br>\n",
    "&emsp; pPcA = P(P|A) = prob de determinada palavra aparecer dado que o email é Ham <br>\n",
    "&emsp; pPcB = P(P|B) = prob de determinada palavra aparecer dado que o email é Spam <br>"
   ]
  },
  {
   "cell_type": "code",
   "execution_count": 59,
   "metadata": {},
   "outputs": [
    {
     "data": {
      "text/html": [
       "<div>\n",
       "<style scoped>\n",
       "    .dataframe tbody tr th:only-of-type {\n",
       "        vertical-align: middle;\n",
       "    }\n",
       "\n",
       "    .dataframe tbody tr th {\n",
       "        vertical-align: top;\n",
       "    }\n",
       "\n",
       "    .dataframe thead th {\n",
       "        text-align: right;\n",
       "    }\n",
       "</style>\n",
       "<table border=\"1\" class=\"dataframe\">\n",
       "  <thead>\n",
       "    <tr style=\"text-align: right;\">\n",
       "      <th></th>\n",
       "      <th>A</th>\n",
       "      <th>B</th>\n",
       "      <th>pP</th>\n",
       "      <th>pPcA</th>\n",
       "      <th>pPcB</th>\n",
       "      <th>pPiA</th>\n",
       "      <th>pPiB</th>\n",
       "    </tr>\n",
       "  </thead>\n",
       "  <tbody>\n",
       "    <tr>\n",
       "      <th>no</th>\n",
       "      <td>228.0</td>\n",
       "      <td>57.0</td>\n",
       "      <td>0.004834</td>\n",
       "      <td>0.004238</td>\n",
       "      <td>0.003176</td>\n",
       "      <td>0.003670</td>\n",
       "      <td>0.000426</td>\n",
       "    </tr>\n",
       "    <tr>\n",
       "      <th>it</th>\n",
       "      <td>519.0</td>\n",
       "      <td>25.0</td>\n",
       "      <td>0.009227</td>\n",
       "      <td>0.009624</td>\n",
       "      <td>0.001424</td>\n",
       "      <td>0.008334</td>\n",
       "      <td>0.000191</td>\n",
       "    </tr>\n",
       "    <tr>\n",
       "      <th>not</th>\n",
       "      <td>310.0</td>\n",
       "      <td>13.0</td>\n",
       "      <td>0.005478</td>\n",
       "      <td>0.005756</td>\n",
       "      <td>0.000767</td>\n",
       "      <td>0.004984</td>\n",
       "      <td>0.000103</td>\n",
       "    </tr>\n",
       "    <tr>\n",
       "      <th>pride</th>\n",
       "      <td>2.0</td>\n",
       "      <td>0.0</td>\n",
       "      <td>0.000034</td>\n",
       "      <td>0.000056</td>\n",
       "      <td>0.000055</td>\n",
       "      <td>0.000048</td>\n",
       "      <td>0.000007</td>\n",
       "    </tr>\n",
       "    <tr>\n",
       "      <th>almost</th>\n",
       "      <td>11.0</td>\n",
       "      <td>0.0</td>\n",
       "      <td>0.000187</td>\n",
       "      <td>0.000222</td>\n",
       "      <td>0.000055</td>\n",
       "      <td>0.000192</td>\n",
       "      <td>0.000007</td>\n",
       "    </tr>\n",
       "    <tr>\n",
       "      <th>lt</th>\n",
       "      <td>248.0</td>\n",
       "      <td>0.0</td>\n",
       "      <td>0.004206</td>\n",
       "      <td>0.004609</td>\n",
       "      <td>0.000055</td>\n",
       "      <td>0.003991</td>\n",
       "      <td>0.000007</td>\n",
       "    </tr>\n",
       "    <tr>\n",
       "      <th>gt</th>\n",
       "      <td>249.0</td>\n",
       "      <td>0.0</td>\n",
       "      <td>0.004223</td>\n",
       "      <td>0.004627</td>\n",
       "      <td>0.000055</td>\n",
       "      <td>0.004007</td>\n",
       "      <td>0.000007</td>\n",
       "    </tr>\n",
       "    <tr>\n",
       "      <th>years</th>\n",
       "      <td>18.0</td>\n",
       "      <td>6.0</td>\n",
       "      <td>0.000407</td>\n",
       "      <td>0.000352</td>\n",
       "      <td>0.000383</td>\n",
       "      <td>0.000305</td>\n",
       "      <td>0.000051</td>\n",
       "    </tr>\n",
       "    <tr>\n",
       "      <th>old</th>\n",
       "      <td>13.0</td>\n",
       "      <td>2.0</td>\n",
       "      <td>0.000254</td>\n",
       "      <td>0.000259</td>\n",
       "      <td>0.000164</td>\n",
       "      <td>0.000224</td>\n",
       "      <td>0.000022</td>\n",
       "    </tr>\n",
       "    <tr>\n",
       "      <th>and</th>\n",
       "      <td>667.0</td>\n",
       "      <td>88.0</td>\n",
       "      <td>0.012805</td>\n",
       "      <td>0.012364</td>\n",
       "      <td>0.004874</td>\n",
       "      <td>0.010706</td>\n",
       "      <td>0.000653</td>\n",
       "    </tr>\n",
       "  </tbody>\n",
       "</table>\n",
       "</div>"
      ],
      "text/plain": [
       "            A     B        pP      pPcA      pPcB      pPiA      pPiB\n",
       "no      228.0  57.0  0.004834  0.004238  0.003176  0.003670  0.000426\n",
       "it      519.0  25.0  0.009227  0.009624  0.001424  0.008334  0.000191\n",
       "not     310.0  13.0  0.005478  0.005756  0.000767  0.004984  0.000103\n",
       "pride     2.0   0.0  0.000034  0.000056  0.000055  0.000048  0.000007\n",
       "almost   11.0   0.0  0.000187  0.000222  0.000055  0.000192  0.000007\n",
       "lt      248.0   0.0  0.004206  0.004609  0.000055  0.003991  0.000007\n",
       "gt      249.0   0.0  0.004223  0.004627  0.000055  0.004007  0.000007\n",
       "years    18.0   6.0  0.000407  0.000352  0.000383  0.000305  0.000051\n",
       "old      13.0   2.0  0.000254  0.000259  0.000164  0.000224  0.000022\n",
       "and     667.0  88.0  0.012805  0.012364  0.004874  0.010706  0.000653"
      ]
     },
     "execution_count": 59,
     "metadata": {},
     "output_type": "execute_result"
    }
   ],
   "source": [
    "freq = {} #Tabela de frequências \n",
    "\n",
    "for numLinha in range(len(treino.Email)): \n",
    "    palavras_linha = treino.loc[numLinha,'Email'].split(' ')\n",
    "\n",
    "    for palavra in palavras_linha:\n",
    "        if palavra not in freq:\n",
    "            freq[palavra] = {'A':0,'B':0,'pPiA':0,'pPiB':0,'pPcA':0,'pPcB':0}\n",
    "        if treino.loc[numLinha,'Class'] == 'ham':\n",
    "            freq[palavra]['A'] +=1 #A é ham\n",
    "        else:\n",
    "            freq[palavra]['B'] +=1\n",
    "\n",
    "pA = (len(dados[dados.Class=='ham']))/(len(dados))\n",
    "pB = (len(dados[dados.Class=='spam']))/(len(dados))\n",
    "palavrasA,palavrasB = 0,0\n",
    "\n",
    "for key,valor in freq.items():  \n",
    "    palavrasA += valor['A']\n",
    "    palavrasB += valor['B']\n",
    "totalPalavras = palavrasA + palavrasB\n",
    "palavrasDistintas = len(freq)\n",
    "\n",
    "\n",
    "for palavra,valor in freq.items():\n",
    "    #Prob de determinada palavra aparecer:\n",
    "    freq[palavra]['pP'] = (valor['A']+valor['B'])/(totalPalavras)\n",
    "    \n",
    "    freq[palavra]['pPcA'] = (valor['A']+1)/(palavrasA+palavrasDistintas) #Laplace Smoothing\n",
    "    freq[palavra]['pPcB'] = (valor['B']+1)/(palavrasB+palavrasDistintas) #Laplace Smoothing\n",
    "        \n",
    "    freq[palavra]['pPiA'] = freq[palavra]['pPcA']*pA\n",
    "    freq[palavra]['pPiB'] = freq[palavra]['pPcB']*pB\n",
    "    \n",
    "# Transformando a tabela num dataframe:\n",
    "tabelapalavras = pd.DataFrame(freq).T\n",
    "tabelapalavras.head(10)"
   ]
  },
  {
   "cell_type": "code",
   "execution_count": 63,
   "metadata": {},
   "outputs": [
    {
     "name": "stdout",
     "output_type": "stream",
     "text": [
      "PalavrasA (com repet): 47365 | PalavrasB (com repet): 11595 | totalPalavras: 58960  | PalavrasDistintas (sem repet): 6665\n",
      "pA: 0.866 | pB: 0.134\n"
     ]
    }
   ],
   "source": [
    "print('PalavrasA (com repet):',palavrasA,'| PalavrasB (com repet):',palavrasB, '| totalPalavras:',totalPalavras,' | PalavrasDistintas (sem repet):',palavrasDistintas)\n",
    "print('pA:',round(pA,3),'| pB:',round(pB,3))"
   ]
  },
  {
   "cell_type": "markdown",
   "metadata": {},
   "source": [
    "___\n",
    "## 3. Classificador Naive-Bayes"
   ]
  },
  {
   "cell_type": "markdown",
   "metadata": {},
   "source": [
    "#### 3) Classificador:"
   ]
  },
  {
   "cell_type": "code",
   "execution_count": 9,
   "metadata": {},
   "outputs": [
    {
     "data": {
      "text/html": [
       "<div>\n",
       "<style scoped>\n",
       "    .dataframe tbody tr th:only-of-type {\n",
       "        vertical-align: middle;\n",
       "    }\n",
       "\n",
       "    .dataframe tbody tr th {\n",
       "        vertical-align: top;\n",
       "    }\n",
       "\n",
       "    .dataframe thead th {\n",
       "        text-align: right;\n",
       "    }\n",
       "</style>\n",
       "<table border=\"1\" class=\"dataframe\">\n",
       "  <thead>\n",
       "    <tr style=\"text-align: right;\">\n",
       "      <th></th>\n",
       "      <th>Classe original</th>\n",
       "      <th>Classe calculada</th>\n",
       "      <th>Email original</th>\n",
       "      <th>Email Filtrado</th>\n",
       "      <th>pAcT</th>\n",
       "      <th>pBcT</th>\n",
       "    </tr>\n",
       "  </thead>\n",
       "  <tbody>\n",
       "    <tr>\n",
       "      <th>0</th>\n",
       "      <td>spam</td>\n",
       "      <td>spam</td>\n",
       "      <td>Free entry in 2 a wkly comp to win FA Cup fina...</td>\n",
       "      <td>free entry in wkly comp to win fa cup final tk...</td>\n",
       "      <td>3.77152e-93</td>\n",
       "      <td>4.64913e-73</td>\n",
       "    </tr>\n",
       "    <tr>\n",
       "      <th>1</th>\n",
       "      <td>ham</td>\n",
       "      <td>ham</td>\n",
       "      <td>Eh u remember how 2 spell his name... Yes i di...</td>\n",
       "      <td>eh remember how spell his name yes did he naug...</td>\n",
       "      <td>1.01642e-43</td>\n",
       "      <td>8.12505e-51</td>\n",
       "    </tr>\n",
       "    <tr>\n",
       "      <th>2</th>\n",
       "      <td>ham</td>\n",
       "      <td>ham</td>\n",
       "      <td>Fine if thatåÕs the way u feel. ThatåÕs the wa...</td>\n",
       "      <td>fine if that the way feel that the way its gota</td>\n",
       "      <td>3.89211e-30</td>\n",
       "      <td>1.82416e-39</td>\n",
       "    </tr>\n",
       "    <tr>\n",
       "      <th>3</th>\n",
       "      <td>ham</td>\n",
       "      <td>ham</td>\n",
       "      <td>I see the letter B on my car</td>\n",
       "      <td>see the letter on my car</td>\n",
       "      <td>7.56334e-17</td>\n",
       "      <td>6.73311e-21</td>\n",
       "    </tr>\n",
       "    <tr>\n",
       "      <th>4</th>\n",
       "      <td>ham</td>\n",
       "      <td>ham</td>\n",
       "      <td>Pls go ahead with watts. I just wanted to be s...</td>\n",
       "      <td>pls go ahead with watts just wanted to be sure...</td>\n",
       "      <td>1.17173e-44</td>\n",
       "      <td>2.38845e-50</td>\n",
       "    </tr>\n",
       "  </tbody>\n",
       "</table>\n",
       "</div>"
      ],
      "text/plain": [
       "  Classe original Classe calculada  \\\n",
       "0            spam             spam   \n",
       "1             ham              ham   \n",
       "2             ham              ham   \n",
       "3             ham              ham   \n",
       "4             ham              ham   \n",
       "\n",
       "                                      Email original  \\\n",
       "0  Free entry in 2 a wkly comp to win FA Cup fina...   \n",
       "1  Eh u remember how 2 spell his name... Yes i di...   \n",
       "2  Fine if thatåÕs the way u feel. ThatåÕs the wa...   \n",
       "3                       I see the letter B on my car   \n",
       "4  Pls go ahead with watts. I just wanted to be s...   \n",
       "\n",
       "                                      Email Filtrado         pAcT         pBcT  \n",
       "0  free entry in wkly comp to win fa cup final tk...  3.77152e-93  4.64913e-73  \n",
       "1  eh remember how spell his name yes did he naug...  1.01642e-43  8.12505e-51  \n",
       "2    fine if that the way feel that the way its gota  3.89211e-30  1.82416e-39  \n",
       "3                           see the letter on my car  7.56334e-17  6.73311e-21  \n",
       "4  pls go ahead with watts just wanted to be sure...  1.17173e-44  2.38845e-50  "
      ]
     },
     "execution_count": 9,
     "metadata": {},
     "output_type": "execute_result"
    }
   ],
   "source": [
    "mensagens={}\n",
    "\n",
    "for numLinha in range(len(teste.Email)):   \n",
    "    mensagens[numLinha] = {'Email original':testeOrig.loc[numLinha,'Email'],\n",
    "                           'Email Filtrado':teste.loc[numLinha,'Email'],\n",
    "                           'Classe original':testeOrig.loc[numLinha,'Class'],\n",
    "                            'pAcT':0,'pBcT':0,'lista pAcT':[], 'lista pBcT':[]}\n",
    "    \n",
    "    lAcT,lBcT=[],[]\n",
    "    palavras_linha = teste.loc[numLinha,'Email'].split(' ')\n",
    "    \n",
    "    for palavra in palavras_linha:    \n",
    "        if palavra in tabelapalavras.index:\n",
    "            lAcT.append(tabelapalavras.loc[palavra,'pPcA'])\n",
    "            lBcT.append(tabelapalavras.loc[palavra,'pPcB'])\n",
    "        else:\n",
    "            lAcT.append(1/(palavrasA +palavrasDistintas))\n",
    "            lBcT.append(1/(palavrasB + palavrasDistintas))\n",
    "    \n",
    "    pAcT, pBcT = np.prod(lAcT) , np.prod(lBcT)\n",
    "\n",
    "    mensagens[numLinha]['pAcT'] = pAcT*pA\n",
    "    mensagens[numLinha]['pBcT'] = pBcT*pB\n",
    "    mensagens[numLinha]['lista pAcT'] = lAcT\n",
    "    mensagens[numLinha]['lista pBcT'] = lBcT\n",
    "\n",
    "    if pAcT >= pBcT:\n",
    "        mensagens[numLinha]['Classe calculada'] = 'ham'\n",
    "    if pAcT < pBcT: \n",
    "        mensagens[numLinha]['Classe calculada'] = 'spam'\n",
    "\n",
    "#Para melhorar a visualização dos emails colocamos ela num dataframe:\n",
    "tabelaEmails = pd.DataFrame(mensagens).T\n",
    "tabEmailsLimpo = tabelaEmails.loc[:,['Classe original','Classe calculada','Email original','Email Filtrado','pAcT', 'pBcT']]\n",
    "\n",
    "a = tabelaEmails[tabelaEmails['Classe original'] != tabelaEmails['Classe calculada']].sort_values(by='pAcT',ascending=False)\n",
    "\n",
    "tabEmailsLimpo.head()"
   ]
  },
  {
   "cell_type": "code",
   "execution_count": 10,
   "metadata": {
    "scrolled": true
   },
   "outputs": [
    {
     "name": "stdout",
     "output_type": "stream",
     "text": [
      "Positivos Verdadeiros (Verdadeiros Spam):  182\n",
      "Negativos Verdadeiros (Verdadeiros Ham):  1154\n",
      "Falsos Positivos (Ham calculados como Spam): 47\n",
      "Falsos Negativos (Spam calculados como Ham):  10\n",
      "\n",
      "Precisão de acerto dos Ham's: 96.087 %\n",
      "Precisão de acerto dos Spam's: 94.792 %\n"
     ]
    }
   ],
   "source": [
    "VerHam, VerSpam, FalHam, FalSpam = 0,0,0,0\n",
    "for numLinha in range(len(mensagens)):\n",
    "    #Negativo Verdadeiro\n",
    "    if (tabelaEmails.loc[numLinha,'Classe original'] == 'ham')&(tabelaEmails.loc[numLinha,'Classe calculada'] == 'ham'): \n",
    "        VerHam+=1\n",
    "    #Positivos Verdadeiros\n",
    "    if (tabelaEmails.loc[numLinha,'Classe original'] == 'spam')&(tabelaEmails.loc[numLinha,'Classe calculada'] == 'spam'):\n",
    "        VerSpam+=1\n",
    "    #Falso Negativo\n",
    "    if (tabelaEmails.loc[numLinha,'Classe original'] == 'spam')&(tabelaEmails.loc[numLinha,'Classe calculada'] == 'ham'): \n",
    "        FalHam+=1\n",
    "    #Falsos Positivos\n",
    "    if (tabelaEmails.loc[numLinha,'Classe original'] == 'ham')&(tabelaEmails.loc[numLinha,'Classe calculada'] == 'spam'): \n",
    "        FalSpam+=1\n",
    "\n",
    "#Positivo = ham | Negativo = spam \n",
    "print('Positivos Verdadeiros (Verdadeiros Spam): ',VerSpam)\n",
    "print('Negativos Verdadeiros (Verdadeiros Ham): ',VerHam)\n",
    "print('Falsos Positivos (Ham calculados como Spam):',FalSpam)\n",
    "print('Falsos Negativos (Spam calculados como Ham): ',FalHam)\n",
    "print()\n",
    "print('Precisão de acerto dos Ham\\'s:',round(100*VerHam/(VerHam+FalSpam),3),'%')\n",
    "print('Precisão de acerto dos Spam\\'s:',round(100*VerSpam/(VerSpam+FalHam),3),'%')"
   ]
  },
  {
   "cell_type": "markdown",
   "metadata": {},
   "source": [
    "#### Para fazermos o loop simplificamos o código ao máximo para reduzir o tempo de cada iteração:\n",
    "Fazendo algumas mudanças e preferencialmente trabalhando com dicionário em vez de dataframe fazemos o tempo de cada iteração cair de 0.4s para 0.06s."
   ]
  },
  {
   "cell_type": "code",
   "execution_count": 42,
   "metadata": {},
   "outputs": [
    {
     "name": "stdout",
     "output_type": "stream",
     "text": [
      "Tempo médio por iteração: 0.06614953844547272  Tempo total: 661.4953844547272\n"
     ]
    }
   ],
   "source": [
    "dados0 = pd.read_excel('spamham2019(1).xlsx')\n",
    "dadosz = limparDados(dados0)\n",
    "resultados=[]\n",
    "\n",
    "n = 10000\n",
    "\n",
    "start = time.time()\n",
    "for j in range(n):\n",
    "    treinoOrigz=dadosz.sample(frac=0.75,random_state=randint(0,100000))\n",
    "    testeOrigz=dadosz.drop(treinoOrigz.index)\n",
    "\n",
    "    #Criar índices:\n",
    "    treinoOrigz.index = range(len(treinoOrigz))\n",
    "    testeOrigz.index = range(len(testeOrigz))\n",
    "\n",
    "    testez, treinoz = testeOrigz.copy(deep=True), treinoOrigz.copy(deep=True)\n",
    "\n",
    "    freq = {} #Tabela de frequências \n",
    "\n",
    "    pA = (len(treinoz[treinoz.Class=='ham']))/(len(treinoz))\n",
    "    pB = (len(treinoz[treinoz.Class=='spam']))/(len(treinoz))\n",
    "\n",
    "    \n",
    "    \n",
    "    ###### FREQUÊNCIAS DAS PALAVRAS ######\n",
    "    \n",
    "    #Para reduzirmos o tempo de execução transformamos o dataframe num dicionário\n",
    "    dicionas=treinoz.to_dict()\n",
    "    \n",
    "    for numLinha in range(len(treinoz)): \n",
    "\n",
    "        for palavra in dicionas['Email'][numLinha].split(' '):\n",
    "            if palavra not in freq:\n",
    "                freq[palavra] = {'A':0,'B':0,'pPcA':0,'pPcB':0}\n",
    "            if dicionas['Class'][numLinha] == 'ham':\n",
    "                freq[palavra]['A'] +=1 #A é ham\n",
    "            else:\n",
    "                freq[palavra]['B'] +=1\n",
    "\n",
    "    #Contagens:       \n",
    "    palavrasA,palavrasB = 0,0\n",
    "    for key,valor in freq.items():  \n",
    "        palavrasA += valor['A']\n",
    "        palavrasB += valor['B']\n",
    "\n",
    "    for palavra,valor in freq.items():   \n",
    "        freq[palavra]['pPcA'] = (valor['A']+1)/(palavrasA+len(freq)) #Laplace Smoothing\n",
    "        freq[palavra]['pPcB'] = (valor['B']+1)/(palavrasB+len(freq)) #len(freq) = Nº palavras distintas\n",
    "\n",
    "\n",
    "    ###### CLASSIFICADOR ######\n",
    "\n",
    "    mensagens={}\n",
    "    \n",
    "    for numLinha in range(len(testez)):   \n",
    "        mensagens[numLinha] = {'Classe original':testeOrigz.loc[numLinha,'Class'],'pAcT':0,'pBcT':0}\n",
    "\n",
    "        pAcT,pBcT=1,1\n",
    "        for palavra in testez.loc[numLinha,'Email'].split(' '):    \n",
    "            if palavra in freq.keys():\n",
    "                pAcT*= freq[palavra]['pPcA'] \n",
    "                pBcT*= freq[palavra]['pPcB'] \n",
    "            else:\n",
    "                pAcT*= 1/(palavrasA +len(freq))\n",
    "                pBcT*= 1/(palavrasB + len(freq))\n",
    "\n",
    "        mensagens[numLinha]['pAcT'] = pAcT*pA\n",
    "        mensagens[numLinha]['pBcT'] = pBcT*pB\n",
    "\n",
    "        if pAcT >= pBcT:\n",
    "            mensagens[numLinha]['Classe calculada'] = 'ham'\n",
    "        if pAcT < pBcT: \n",
    "            mensagens[numLinha]['Classe calculada'] = 'spam'\n",
    "\n",
    "    acertos = 0 \n",
    "    for k in range(len(mensagens)):\n",
    "        if mensagens[k]['Classe original'] == mensagens[k]['Classe calculada']:\n",
    "            acertos+=1\n",
    "\n",
    "    resultados.append(round(100*acertos/len(mensagens),3))\n",
    "    j+=1\n",
    "    \n",
    "    \n",
    "end = time.time()\n",
    "print(\"Tempo médio por iteração:\",(end-start)/n,' Tempo total:',(end-start))"
   ]
  },
  {
   "cell_type": "markdown",
   "metadata": {},
   "source": [
    "##### Plotamos o histograma dos 10 mil resultados:"
   ]
  },
  {
   "cell_type": "code",
   "execution_count": 54,
   "metadata": {},
   "outputs": [
    {
     "data": {
      "text/plain": [
       "<matplotlib.axes._subplots.AxesSubplot at 0x24343ba91d0>"
      ]
     },
     "execution_count": 54,
     "metadata": {},
     "output_type": "execute_result"
    },
    {
     "data": {
      "image/png": "[encoded data removed]",
      "text/plain": [
       "<Figure size 432x288 with 1 Axes>"
      ]
     },
     "metadata": {
      "needs_background": "light"
     },
     "output_type": "display_data"
    }
   ],
   "source": [
    "sResult= pd.Series(data=resultados)\n",
    "sResult.plot.hist(bins=25)"
   ]
  },
  {
   "cell_type": "markdown",
   "metadata": {},
   "source": [
    "Obtemos uma curva normal."
   ]
  },
  {
   "cell_type": "code",
   "execution_count": null,
   "metadata": {},
   "outputs": [],
   "source": []
  }
 ],
 "metadata": {
  "anaconda-cloud": {},
  "kernelspec": {
   "display_name": "Python 3",
   "language": "python",
   "name": "python3"
  },
  "language_info": {
   "codemirror_mode": {
    "name": "ipython",
    "version": 3
   },
   "file_extension": ".py",
   "mimetype": "text/x-python",
   "name": "python",
   "nbconvert_exporter": "python",
   "pygments_lexer": "ipython3",
   "version": "3.7.0"
  }
 },
 "nbformat": 4,
 "nbformat_minor": 1
}
