{
 "cells": [
  {
   "cell_type": "code",
   "execution_count": 1,
   "metadata": {},
   "outputs": [],
   "source": [
    "##### Importando Bibliotecas: #####\n",
    "import matplotlib.pyplot as plt\n",
    "from random import randint\n",
    "import pandas as pd\n",
    "import numpy as np\n",
    "import random\n",
    "import time\n",
    "import csv\n",
    "import os\n",
    "import re\n",
    "\n",
    "\n",
    "##### Definindo as variáveis: #####\n",
    "\n",
    "    #Nome das Colunas dos Dataframes:\n",
    "n_WiA, p_WcA, n_WiB, p_WcB, p_AcT, p_BcT  = 'n(Wk∩A)', 'p(Wk|A)', 'n(Wk∩B)', 'p(Wk|B)', 'p(A|T)', 'p(B|T)'\n",
    "    #Sendo:\n",
    "        # n_WiA = n(Wk∩A) e n_WiB = n(Wk∩B)\n",
    "        # p_WcA = P(W|A) e p_WcB = P(W|B)\n",
    "\n",
    "    #Nome das categorias de tipos de emails:\n",
    "nomeA, nomeB = 'ham','spam'"
   ]
  },
  {
   "cell_type": "markdown",
   "metadata": {},
   "source": [
    "##### Símbolos:"
   ]
  },
  {
   "cell_type": "markdown",
   "metadata": {},
   "source": [
    "<img src=\"simb.png\">"
   ]
  },
  {
   "cell_type": "markdown",
   "metadata": {},
   "source": [
    "___\n",
    "\n",
    "# Ciência dos Dados - PROJETO 2"
   ]
  },
  {
   "cell_type": "markdown",
   "metadata": {},
   "source": [
    "___\n",
    "## Nomes:  Gabriel Couto, Gabriel Miras e Mariana Abrantes\n",
    "___"
   ]
  },
  {
   "cell_type": "markdown",
   "metadata": {},
   "source": [
    "## Introdução:\n",
    "\n",
    "### Para criar o classificador:<br>\n",
    "__I) Limpamos os emails da seguinte forma:__ <br>\n",
    "* Convertemos todos os caracteres pra minúsculos<br>\n",
    "* Trocamos todos caracteres que não são letras do alfabeto americano por espaços<br>\n",
    "* Removemos todas palavras com menos de 2 caracteres de comprimento e os espaços excedentes<br>\n",
    "\n",
    "Outras transformações que poderiam ser feitas:<br>\n",
    "* Tirar preposições e artigos dos emails <br>\n",
    "* Considerar palavras de mesmo significado e sufixos diferentes como as mesmas (Ex: election, elections, elected)<br>\n",
    "<br>\n",
    "\n",
    "__II) Separamos os dados em 2 novos dataframes:__ <br>\n",
    "* Treinamento: Com 75% dos emails do dataframe original, será usado para gerar a tabela de frequências de palavras <br>\n",
    "* Teste: Com 25% dos emails do dataframe original, será usado no classificador para calcular se o email é spam ou não<br>\n",
    "<br>\n",
    "\n",
    "__III) Criamos uma tabela de frequência de palavras associada à sua probabilidade de ser Spam ou não__<br>\n",
    "a) Calculamos p(A) e P(B):\n",
    "$$p(A) = \\frac{n(A)}{totalEmails} \\:\\:\\:\\:\\: \\: p(B) = \\frac{n(B)}{totalEmails}$$\n",
    "\n",
    "b) Considerando a probabilidade de cada palavra como eventos independentes, sendo T o texto do email com m palavras (W1,W2,...,Wm): $$ p(T) = p(W_1)\\times p(W_2) \\times \\dots \\times p(W_m) \\: \\Longrightarrow p(T|A) \\: = p(W_1|A) \\times p(W_2|A) \\times \\dots \\times p(W_m|A) $$<br>\n",
    "\n",
    "Não podemos ter nenhuma palavra com p(Wk|A) igual a zero para não zerar p(T|A), para isso usamos Laplace Smoothing. <br>\n",
    "Fazemos isso adicionando 1 ao numerador de p(Wk|A) e palavrasD no denominador:\n",
    "$$ p(W_k|A) = \\dfrac{n(W_k∩A)}{palavrasA} \\longrightarrow p(W_k|A) = \\dfrac{n(W_k∩A)+1}{palavrasA+palavrasD}$$\n",
    "Analogamente, para B: $$ p(W_k|B) = \\dfrac{n(W_k∩B)+1}{palavrasB+palavrasD}$$\n",
    "\n",
    "Criamos uma tabela com as palavras do treinamento como índices e as colunas: p(Wk|A) e p(Wk|B) <br>\n",
    "<br> \n",
    "\n",
    "__IV) Criamos o classificador Naive-Bayes para através da tabela de frequências gerada classificar o email como spam ou não__<br>\n",
    "Do teorema de Bayes: \n",
    "$$p(A|T)\\times p(T) = p(T|A)\\times p(A) \\Longrightarrow P(A|T) =  p(W_1|A) \\times \\dots \\times p(W_m|A) \\times \\dfrac{p(A)}{p(T)} $$\n",
    "Analogamente, o mesmo vale para B, basta trocar A por B na equação acima<br>\n",
    "\n",
    "As palavras que não estiverem na tabela de frequências tem p(W|A) e p(W|B) = 1/palavrasD<br>\n",
    "\n",
    "Como vamos comparar p(A|T) e p(B|T) podemos simplificar dividindo os dois lados da equação por p(T) e poderemos usar as relações: $$P(A|T) =  p(A) \\times p(W_1|A) \\times \\dots \\times p(W_m|A) $$\n",
    "$$P(B|T) =  p(B) \\times p(W_1|B) \\times \\dots \\times p(W_m|B) $$ <br>\n",
    "Se p(A|T) > p(B|T) o email é do tipo A <br>\n",
    "Se p(A|T) < p(B|T) o email é do tipo B <br>\n",
    "\n",
    "\n",
    "### Para analizar o classificador:\n",
    "__I) Alterando a base de treinamento:__<br>\n",
    "Existem várias combinações de emails possíveis de modo a obter uma amostra de treinamento com 75% dos emails do dataframe.\n",
    "Por isso, para observar como o valor dos percentuais de acerto variam com a amostra escolhida realizamos o procedimento 10 mil vezes para amostras ao acaso e salvamos os resultados obtidos numa lista.<br>\n",
    "\n",
    "__II) Do histograma no final da página:__<br>\n",
    "Temos que o histograma da taxa de acerto do classificador possui uma distribuição semelhante a uma distribuição normal, variando aproximadamente de 93 até 98, com média aproximada 95 e desvio padrão 0.49. Como o desvio padrão é pequeno comparado à taxa de acerto, o classificador mostrou-se confiável na maioria dos casos com uma só amostra. Contudo, podemos tornar o resultado ainda mais confiável e minimizar erros dividindo a base de dados em treinamento e teste mais de uma vez.\n",
    "_______"
   ]
  },
  {
   "cell_type": "markdown",
   "metadata": {},
   "source": [
    "___\n",
    "## 1. Problema\n",
    "\n",
    "O Classificador Naive-Bayes, o qual se baseia no uso do teorema de Bayes, é largamente utilizado em filtros anti-spam de e-mails. O classificador permite calcular qual a probabilidade de uma mensagem ser SPAM considerando as palavras em seu conteúdo e, de forma complementar, permite calcular a probabilidade de uma mensagem ser HAM dada as palavras descritas na mensagem.\n",
    "\n",
    "Para realizar o MVP (minimum viable product) do projeto, você precisa programar uma versão do classificador que \"aprende\" o que é uma mensagem SPAM considerando uma base de treinamento e comparar o desempenho dos resultados com uma base de testes. "
   ]
  },
  {
   "cell_type": "markdown",
   "metadata": {},
   "source": [
    "___\n",
    "## 2. Separação da base de dados em Treinamento e Teste\n",
    "\n",
    "A base de dados deve ser separada em duas partes, aleatoriamente, considerando: \n",
    "    \n",
    "    75% dos dados para a parte Treinamento; e 25% dos dados para a parte Teste."
   ]
  },
  {
   "cell_type": "code",
   "execution_count": 2,
   "metadata": {},
   "outputs": [],
   "source": [
    "#Carregar dados:\n",
    "leitura = pd.ExcelFile('spamham2019(1).xlsx')\n",
    "dados = pd.read_excel(leitura)\n",
    "\n",
    "percentTreino = 0.75 #Proporção entre o comprimento do treinamento o dataframe dados.\n",
    "\n",
    "#SEPARAR EM TREINO E TESTE\n",
    "treinoOrig = dados.sample(frac=percentTreino,random_state=randint(0,100000))\n",
    "testeOrig = dados.drop(treinoOrig.index)\n",
    "\n",
    "#Cria índices numéricos pros dataframes\n",
    "treinoOrig.index, testeOrig.index = range(len(treinoOrig)),range(len(testeOrig))"
   ]
  },
  {
   "cell_type": "markdown",
   "metadata": {},
   "source": [
    "#  Limpando a base de dados"
   ]
  },
  {
   "cell_type": "markdown",
   "metadata": {},
   "source": [
    "#### Para usar o mesmo filtro com diferentes dataframes criamos a função limparDados:"
   ]
  },
  {
   "cell_type": "code",
   "execution_count": 3,
   "metadata": {},
   "outputs": [],
   "source": [
    "def limparDados(df):   \n",
    "    #Cria uma cópia do dataframe pra não adulterar os originais\n",
    "    dfLimpo = df.copy(deep=True)\n",
    "    \n",
    "    #Pega cada linha de df:\n",
    "    for numLinha in range(len(dfLimpo)):\n",
    "        linha = dfLimpo.loc[numLinha,'Email'].lower() #Linha com tudo em minúsculo\n",
    "        \n",
    "        #Subtitui caracteres que não forem letras ou espaços por espaços:\n",
    "        linhaL = re.sub(r\"[^a-z ]\",' ',linha)\n",
    "        \n",
    "        palavrasFiltradas=[]\n",
    "        #Para cada palavra da linha de df:\n",
    "        for palavra in linhaL.split(' '):\n",
    "            palavraLimpa = re.sub(r\"[^a-z]\",'',palavra)\n",
    "            \n",
    "            #Se a palavra tiver mais que 1 caractere:\n",
    "            if len(palavraLimpa) > 1:\n",
    "                palavrasFiltradas.append(palavraLimpa)\n",
    "\n",
    "        #Transformando em linha de novo\n",
    "        linhaLimpa = \" \".join(palavrasFiltradas)\n",
    "        dfLimpo.loc[numLinha,'Email'] = linhaLimpa\n",
    "    return(dfLimpo)"
   ]
  },
  {
   "cell_type": "markdown",
   "metadata": {},
   "source": [
    "##### Criamos a tabela de frequências de cada palavra:"
   ]
  },
  {
   "cell_type": "code",
   "execution_count": 4,
   "metadata": {},
   "outputs": [],
   "source": [
    "#Carregar dados:\n",
    "leitura = pd.ExcelFile('spamham2019(1).xlsx')\n",
    "dados = pd.read_excel(leitura)\n",
    "dadosL = limparDados(dados)\n",
    "teste, treino = limparDados(testeOrig), limparDados(treinoOrig)"
   ]
  },
  {
   "cell_type": "code",
   "execution_count": 5,
   "metadata": {
    "scrolled": true
   },
   "outputs": [
    {
     "data": {
      "text/html": [
       "<div>\n",
       "<style scoped>\n",
       "    .dataframe tbody tr th:only-of-type {\n",
       "        vertical-align: middle;\n",
       "    }\n",
       "\n",
       "    .dataframe tbody tr th {\n",
       "        vertical-align: top;\n",
       "    }\n",
       "\n",
       "    .dataframe thead th {\n",
       "        text-align: right;\n",
       "    }\n",
       "</style>\n",
       "<table border=\"1\" class=\"dataframe\">\n",
       "  <thead>\n",
       "    <tr style=\"text-align: right;\">\n",
       "      <th></th>\n",
       "      <th>n(Wk∩A)</th>\n",
       "      <th>n(Wk∩B)</th>\n",
       "      <th>p(Wk|A)</th>\n",
       "      <th>p(Wk|B)</th>\n",
       "    </tr>\n",
       "  </thead>\n",
       "  <tbody>\n",
       "    <tr>\n",
       "      <th>was</th>\n",
       "      <td>158.0</td>\n",
       "      <td>7.0</td>\n",
       "      <td>0.002970</td>\n",
       "      <td>0.000433</td>\n",
       "    </tr>\n",
       "    <tr>\n",
       "      <th>really</th>\n",
       "      <td>65.0</td>\n",
       "      <td>1.0</td>\n",
       "      <td>0.001233</td>\n",
       "      <td>0.000108</td>\n",
       "    </tr>\n",
       "    <tr>\n",
       "      <th>good</th>\n",
       "      <td>178.0</td>\n",
       "      <td>9.0</td>\n",
       "      <td>0.003343</td>\n",
       "      <td>0.000541</td>\n",
       "    </tr>\n",
       "    <tr>\n",
       "      <th>to</th>\n",
       "      <td>1187.0</td>\n",
       "      <td>521.0</td>\n",
       "      <td>0.022188</td>\n",
       "      <td>0.028245</td>\n",
       "    </tr>\n",
       "    <tr>\n",
       "      <th>see</th>\n",
       "      <td>100.0</td>\n",
       "      <td>18.0</td>\n",
       "      <td>0.001886</td>\n",
       "      <td>0.001028</td>\n",
       "    </tr>\n",
       "    <tr>\n",
       "      <th>you</th>\n",
       "      <td>1451.0</td>\n",
       "      <td>224.0</td>\n",
       "      <td>0.027118</td>\n",
       "      <td>0.012175</td>\n",
       "    </tr>\n",
       "    <tr>\n",
       "      <th>the</th>\n",
       "      <td>856.0</td>\n",
       "      <td>152.0</td>\n",
       "      <td>0.016006</td>\n",
       "      <td>0.008279</td>\n",
       "    </tr>\n",
       "    <tr>\n",
       "      <th>other</th>\n",
       "      <td>38.0</td>\n",
       "      <td>2.0</td>\n",
       "      <td>0.000728</td>\n",
       "      <td>0.000162</td>\n",
       "    </tr>\n",
       "    <tr>\n",
       "      <th>day</th>\n",
       "      <td>161.0</td>\n",
       "      <td>23.0</td>\n",
       "      <td>0.003026</td>\n",
       "      <td>0.001299</td>\n",
       "    </tr>\n",
       "    <tr>\n",
       "      <th>dudette</th>\n",
       "      <td>1.0</td>\n",
       "      <td>0.0</td>\n",
       "      <td>0.000037</td>\n",
       "      <td>0.000054</td>\n",
       "    </tr>\n",
       "  </tbody>\n",
       "</table>\n",
       "</div>"
      ],
      "text/plain": [
       "         n(Wk∩A)  n(Wk∩B)   p(Wk|A)   p(Wk|B)\n",
       "was        158.0      7.0  0.002970  0.000433\n",
       "really      65.0      1.0  0.001233  0.000108\n",
       "good       178.0      9.0  0.003343  0.000541\n",
       "to        1187.0    521.0  0.022188  0.028245\n",
       "see        100.0     18.0  0.001886  0.001028\n",
       "you       1451.0    224.0  0.027118  0.012175\n",
       "the        856.0    152.0  0.016006  0.008279\n",
       "other       38.0      2.0  0.000728  0.000162\n",
       "day        161.0     23.0  0.003026  0.001299\n",
       "dudette      1.0      0.0  0.000037  0.000054"
      ]
     },
     "execution_count": 5,
     "metadata": {},
     "output_type": "execute_result"
    }
   ],
   "source": [
    "freq = {} #Tabela de frequências \n",
    "pA,pB = (len(dados[dados.Class==nomeA]))/(len(dados)),(len(dados[dados.Class==nomeB]))/(len(dados))\n",
    "\n",
    "for numLinha in range(len(treino.Email)): \n",
    "    for palavra in treino.loc[numLinha,'Email'].split(' '):\n",
    "        if palavra not in freq:\n",
    "            freq[palavra] = {n_WiA:0, n_WiB:0, p_WcA:0, p_WcB:0}\n",
    "        if treino.loc[numLinha,'Class'] == nomeA:\n",
    "            freq[palavra][n_WiA] +=1\n",
    "        else:\n",
    "            freq[palavra][n_WiB] +=1\n",
    "\n",
    "palavrasA, palavrasB, palavrasD = 0, 0, len(freq)\n",
    "for key,valor in freq.items():  \n",
    "    palavrasA += valor[n_WiA]\n",
    "    palavrasB += valor[n_WiB]\n",
    "\n",
    "for palavra,valor in freq.items():  \n",
    "    freq[palavra][p_WcA] = (valor[n_WiA]+1)/(palavrasA+palavrasD) #Laplace Smoothing\n",
    "    freq[palavra][p_WcB] = (valor[n_WiB]+1)/(palavrasB+palavrasD) #Laplace Smoothing\n",
    "        \n",
    "# Transformando a tabela num dataframe:\n",
    "tabelapalavras = pd.DataFrame(freq).T\n",
    "tabelapalavras.head(10)"
   ]
  },
  {
   "cell_type": "code",
   "execution_count": 6,
   "metadata": {},
   "outputs": [
    {
     "name": "stdout",
     "output_type": "stream",
     "text": [
      "PalavrasA: 46871 | PalavrasB: 11809 | PalavrasD: 6672\n",
      "p(A): 0.8659368 | p(B): 0.13406\n"
     ]
    }
   ],
   "source": [
    "print('PalavrasA:',palavrasA,'| PalavrasB:',palavrasB, '| PalavrasD:',len(freq))\n",
    "print('p(A):',round(pA,7),'| p(B):',round(pB,5))"
   ]
  },
  {
   "cell_type": "markdown",
   "metadata": {},
   "source": [
    "___\n",
    "## 3. Classificador Naive-Bayes"
   ]
  },
  {
   "cell_type": "code",
   "execution_count": 8,
   "metadata": {},
   "outputs": [
    {
     "data": {
      "text/html": [
       "<div>\n",
       "<style scoped>\n",
       "    .dataframe tbody tr th:only-of-type {\n",
       "        vertical-align: middle;\n",
       "    }\n",
       "\n",
       "    .dataframe tbody tr th {\n",
       "        vertical-align: top;\n",
       "    }\n",
       "\n",
       "    .dataframe thead th {\n",
       "        text-align: right;\n",
       "    }\n",
       "</style>\n",
       "<table border=\"1\" class=\"dataframe\">\n",
       "  <thead>\n",
       "    <tr style=\"text-align: right;\">\n",
       "      <th></th>\n",
       "      <th>Classe calculada</th>\n",
       "      <th>Classe original</th>\n",
       "      <th>Email Filtrado</th>\n",
       "      <th>Email original</th>\n",
       "      <th>p(A|T)</th>\n",
       "      <th>p(B|T)</th>\n",
       "    </tr>\n",
       "  </thead>\n",
       "  <tbody>\n",
       "    <tr>\n",
       "      <th>0</th>\n",
       "      <td>ham</td>\n",
       "      <td>ham</td>\n",
       "      <td>even my brother is not like to speak with me t...</td>\n",
       "      <td>Even my brother is not like to speak with me. ...</td>\n",
       "      <td>6.90493e-46</td>\n",
       "      <td>8.73703e-53</td>\n",
       "    </tr>\n",
       "    <tr>\n",
       "      <th>1</th>\n",
       "      <td>spam</td>\n",
       "      <td>spam</td>\n",
       "      <td>urgent you have won week free membership in ou...</td>\n",
       "      <td>URGENT! You have won a 1 week FREE membership ...</td>\n",
       "      <td>1.41508e-86</td>\n",
       "      <td>4.65479e-68</td>\n",
       "    </tr>\n",
       "    <tr>\n",
       "      <th>2</th>\n",
       "      <td>ham</td>\n",
       "      <td>ham</td>\n",
       "      <td>oh watching here</td>\n",
       "      <td>Oh k...i'm watching here:)</td>\n",
       "      <td>1.01594e-09</td>\n",
       "      <td>1.48673e-13</td>\n",
       "    </tr>\n",
       "    <tr>\n",
       "      <th>3</th>\n",
       "      <td>ham</td>\n",
       "      <td>ham</td>\n",
       "      <td>fine if that the way feel that the way its gota</td>\n",
       "      <td>Fine if thatåÕs the way u feel. ThatåÕs the wa...</td>\n",
       "      <td>7.04513e-30</td>\n",
       "      <td>1.64987e-38</td>\n",
       "    </tr>\n",
       "    <tr>\n",
       "      <th>4</th>\n",
       "      <td>ham</td>\n",
       "      <td>ham</td>\n",
       "      <td>going to try for months ha ha only joking</td>\n",
       "      <td>I‰Û÷m going to try for 2 months ha ha only joking</td>\n",
       "      <td>1.11738e-28</td>\n",
       "      <td>1.56126e-31</td>\n",
       "    </tr>\n",
       "  </tbody>\n",
       "</table>\n",
       "</div>"
      ],
      "text/plain": [
       "  Classe calculada Classe original  \\\n",
       "0              ham             ham   \n",
       "1             spam            spam   \n",
       "2              ham             ham   \n",
       "3              ham             ham   \n",
       "4              ham             ham   \n",
       "\n",
       "                                      Email Filtrado  \\\n",
       "0  even my brother is not like to speak with me t...   \n",
       "1  urgent you have won week free membership in ou...   \n",
       "2                                   oh watching here   \n",
       "3    fine if that the way feel that the way its gota   \n",
       "4          going to try for months ha ha only joking   \n",
       "\n",
       "                                      Email original       p(A|T)       p(B|T)  \n",
       "0  Even my brother is not like to speak with me. ...  6.90493e-46  8.73703e-53  \n",
       "1  URGENT! You have won a 1 week FREE membership ...  1.41508e-86  4.65479e-68  \n",
       "2                         Oh k...i'm watching here:)  1.01594e-09  1.48673e-13  \n",
       "3  Fine if thatåÕs the way u feel. ThatåÕs the wa...  7.04513e-30  1.64987e-38  \n",
       "4  I‰Û÷m going to try for 2 months ha ha only joking  1.11738e-28  1.56126e-31  "
      ]
     },
     "execution_count": 8,
     "metadata": {},
     "output_type": "execute_result"
    }
   ],
   "source": [
    "mensagens={}\n",
    "\n",
    "for numLinha in range(len(teste.Email)):   \n",
    "    mensagens[numLinha] = {'Email original':testeOrig.loc[numLinha,'Email'],'Email Filtrado':teste.loc[numLinha,'Email'],\n",
    "                           'Classe original':testeOrig.loc[numLinha,'Class'],p_AcT:0,p_BcT:0}\n",
    "    \n",
    "    pAcT,pBcT=1,1\n",
    "    for palavra in teste.loc[numLinha,'Email'].split(' '):    \n",
    "        if palavra in tabelapalavras.index:\n",
    "            pAcT*= tabelapalavras.loc[palavra,p_WcA]\n",
    "            pBcT*= tabelapalavras.loc[palavra,p_WcB]\n",
    "        else:\n",
    "            pAcT*= 1/(palavrasA +len(freq))\n",
    "            pBcT*= 1/(palavrasB + len(freq))\n",
    "    \n",
    "        mensagens[numLinha][p_AcT] = pAcT*pA\n",
    "        mensagens[numLinha][p_BcT] = pBcT*pB\n",
    "\n",
    "    if pAcT >= pBcT:\n",
    "        mensagens[numLinha]['Classe calculada'] = nomeA\n",
    "    if pAcT < pBcT: \n",
    "        mensagens[numLinha]['Classe calculada'] = nomeB\n",
    "\n",
    "#Para melhorar a visualização dos emails colocamos ela num dataframe:\n",
    "tabelaEmails = pd.DataFrame(mensagens).T\n",
    "\n",
    "tabelaEmails.head()"
   ]
  },
  {
   "cell_type": "code",
   "execution_count": 9,
   "metadata": {
    "scrolled": true
   },
   "outputs": [
    {
     "name": "stdout",
     "output_type": "stream",
     "text": [
      "Positivos Verdadeiros (Verdadeiros Spam):  178\n",
      "Negativos Verdadeiros (Verdadeiros Ham):  1152\n",
      "Falsos Positivos (Ham calculados como Spam): 55\n",
      "Falsos Negativos (Spam calculados como Ham):  8\n",
      "\n",
      "Precisão de acertos: 95.477 %\n"
     ]
    }
   ],
   "source": [
    "VerHam, VerSpam, FalHam, FalSpam = 0,0,0,0\n",
    "for numLinha in range(len(mensagens)):\n",
    "    #Negativo Verdadeiro\n",
    "    if (tabelaEmails.loc[numLinha,'Classe original'] == nomeA)&(tabelaEmails.loc[numLinha,'Classe calculada'] == nomeA): \n",
    "        VerHam+=1\n",
    "    #Positivos Verdadeiros\n",
    "    if (tabelaEmails.loc[numLinha,'Classe original'] == nomeB)&(tabelaEmails.loc[numLinha,'Classe calculada'] == nomeB):\n",
    "        VerSpam+=1\n",
    "    #Falso Negativo\n",
    "    if (tabelaEmails.loc[numLinha,'Classe original'] == nomeB)&(tabelaEmails.loc[numLinha,'Classe calculada'] == nomeA): \n",
    "        FalHam+=1\n",
    "    #Falsos Positivos\n",
    "    if (tabelaEmails.loc[numLinha,'Classe original'] == nomeA)&(tabelaEmails.loc[numLinha,'Classe calculada'] == nomeB): \n",
    "        FalSpam+=1\n",
    "\n",
    "#Positivo = ham | Negativo = spam \n",
    "print('Positivos Verdadeiros (Verdadeiros Spam): ',VerSpam)\n",
    "print('Negativos Verdadeiros (Verdadeiros Ham): ',VerHam)\n",
    "print('Falsos Positivos (Ham calculados como Spam):',FalSpam)\n",
    "print('Falsos Negativos (Spam calculados como Ham): ',FalHam)\n",
    "print()\n",
    "print('Precisão de acertos:',round(100*(VerSpam+VerHam)/(VerHam+VerSpam+FalHam+FalSpam),3),'%')"
   ]
  },
  {
   "cell_type": "markdown",
   "metadata": {},
   "source": [
    "## 4. Qualidade do Classificador alterando a base de treinamento\n",
    "Para fazermos o loop simplificamos o código ao máximo para reduzir o tempo de cada iteração:\n",
    "Fazendo algumas mudanças e preferencialmente trabalhando com dicionário em vez de dataframe fazemos o tempo de cada iteração cair de 0.4s para 0.06s."
   ]
  },
  {
   "cell_type": "code",
   "execution_count": 10,
   "metadata": {},
   "outputs": [],
   "source": [
    "#Função que recebe:\n",
    "    #n = número de resultados à serem obtidos\n",
    "    #dadoz = dataframe limpo (após passar por limparDados)\n",
    "    \n",
    "def loop(n,dadosz):\n",
    "    resultados=[]\n",
    "    \n",
    "    start = time.time()\n",
    "    for j in range(n):\n",
    "        treinoOrigz=dadosz.sample(frac=percentTreino,random_state=randint(0,100000))\n",
    "        testeOrigz=dadosz.drop(treinoOrigz.index)\n",
    "\n",
    "        #Criar índices e preparar teste e treino:\n",
    "        treinoOrigz.index,testeOrigz.index  = range(len(treinoOrigz)), range(len(testeOrigz))\n",
    "        testez, treinoz = testeOrigz.copy(deep=True), treinoOrigz.copy(deep=True)\n",
    "\n",
    "        pA, pB = (len(treinoz[treinoz.Class==nomeA]))/(len(treinoz)), (len(treinoz[treinoz.Class==nomeB]))/(len(treinoz)) \n",
    "        \n",
    "        \n",
    "        ###### FREQUÊNCIAS DAS PALAVRAS ######\n",
    "        freq = {} #Tabela de frequências \n",
    "\n",
    "        #Para reduzirmos o tempo de execução transformamos o dataframe num dicionário\n",
    "        dicionas=treinoz.to_dict()\n",
    "\n",
    "        for numLinha in range(len(dicionas['Email'])): \n",
    "\n",
    "            for palavra in dicionas['Email'][numLinha].split(' '):\n",
    "                if palavra not in freq:\n",
    "                    freq[palavra] = {n_WiA:0,n_WiB:0,p_WcA:0,p_WcB:0}\n",
    "                if dicionas['Class'][numLinha] == nomeA:\n",
    "                    freq[palavra][n_WiA] +=1\n",
    "                else:\n",
    "                    freq[palavra][n_WiB] +=1\n",
    "\n",
    "        #Contagens:       \n",
    "        palavrasA,palavrasB = 0,0\n",
    "        for key,valor in freq.items():  \n",
    "            palavrasA += valor[n_WiA]\n",
    "            palavrasB += valor[n_WiB]\n",
    "\n",
    "        for palavra,valor in freq.items():   \n",
    "            freq[palavra][p_WcA] = (valor[n_WiA]+1)/(palavrasA+len(freq)) #Laplace Smoothing\n",
    "            freq[palavra][p_WcB] = (valor[n_WiB]+1)/(palavrasB+len(freq)) #len(freq) = Nº palavras distintas\n",
    "\n",
    "\n",
    "        ###### CLASSIFICADOR ######\n",
    "        mensagens={}\n",
    "        lTesteOClass = list(testeOrigz.loc[:,'Class'])\n",
    "        lTesteCEmail = list(testez.loc[:,'Email'])\n",
    "        \n",
    "        for numLinha in range(len(testez)):   \n",
    "            mensagens[numLinha] = {'Classe original':lTesteOClass[numLinha],p_AcT:0,p_BcT:0}\n",
    "\n",
    "            pAcT,pBcT=1,1\n",
    "            for palavra in lTesteCEmail[numLinha].split(' '):    \n",
    "                if palavra in freq.keys():\n",
    "                    pAcT*= freq[palavra][p_WcA] \n",
    "                    pBcT*= freq[palavra][p_WcB] \n",
    "                else:\n",
    "                    pAcT*= 1/(palavrasA +len(freq))\n",
    "                    pBcT*= 1/(palavrasB + len(freq))\n",
    "\n",
    "            mensagens[numLinha][p_AcT] = pAcT*pA\n",
    "            mensagens[numLinha][p_BcT] = pBcT*pB\n",
    "\n",
    "            if pAcT >= pBcT:\n",
    "                mensagens[numLinha]['Classe calculada'] = nomeA\n",
    "            if pAcT < pBcT: \n",
    "                mensagens[numLinha]['Classe calculada'] = nomeB\n",
    "\n",
    "        acertos = 0 \n",
    "        for k in range(len(mensagens)):\n",
    "            if mensagens[k]['Classe original'] == mensagens[k]['Classe calculada']:\n",
    "                acertos+=1\n",
    "\n",
    "        resultados.append(100*acertos/len(mensagens))\n",
    "        j+=1\n",
    "    end = time.time()\n",
    "    print(\"Tempo médio por iteração:\",round(1000*(end-start)/n,4),'ms  | Tempo total:',round((end-start),4),'s')\n",
    "    return resultados"
   ]
  },
  {
   "cell_type": "code",
   "execution_count": 11,
   "metadata": {},
   "outputs": [
    {
     "name": "stdout",
     "output_type": "stream",
     "text": [
      "Tempo médio por iteração: 37.0893 ms  | Tempo total: 370.8933 s\n"
     ]
    }
   ],
   "source": [
    "repeticoes = 10000\n",
    "passa75 = loop(repeticoes,dadosL)"
   ]
  },
  {
   "cell_type": "markdown",
   "metadata": {},
   "source": [
    "##### Histograma dos 10 mil resultados da taxa de acerto do classificador:"
   ]
  },
  {
   "cell_type": "code",
   "execution_count": 268,
   "metadata": {},
   "outputs": [
    {
     "data": {
      "text/plain": [
       "<matplotlib.axes._subplots.AxesSubplot at 0x266c53ef208>"
      ]
     },
     "execution_count": 268,
     "metadata": {},
     "output_type": "execute_result"
    },
    {
     "data": {
      "image/png": "[encoded data removed]",
      "text/plain": [
       "<Figure size 432x288 with 1 Axes>"
      ]
     },
     "metadata": {
      "needs_background": "light"
     },
     "output_type": "display_data"
    }
   ],
   "source": [
    "data75= pd.Series(data=passa75)\n",
    "data75.plot.hist(bins=130, density=True)"
   ]
  },
  {
   "cell_type": "markdown",
   "metadata": {},
   "source": [
    "Obtemos uma distribuição semelhante a uma distribuição normal."
   ]
  },
  {
   "cell_type": "markdown",
   "metadata": {},
   "source": [
    "### Por curiosidade vamos comparar os histogramas para treino com 25%, 50% e 75% dos dados:"
   ]
  },
  {
   "cell_type": "markdown",
   "metadata": {},
   "source": [
    "Colocar no final do arquivo como curiosidade se alterar a razão entre treino e teste pra 25% e 50%"
   ]
  },
  {
   "cell_type": "code",
   "execution_count": 56,
   "metadata": {},
   "outputs": [
    {
     "name": "stdout",
     "output_type": "stream",
     "text": [
      "Tempo médio por iteração: 37.5329 ms  | Tempo total: 375.3285 s\n",
      "Tempo médio por iteração: 37.499 ms  | Tempo total: 374.9902 s\n"
     ]
    }
   ],
   "source": [
    "repeticoes = 10000\n",
    "\n",
    "percentTreino = 0.25 #Proporção entre o comprimento do treinamento e dos dados.\n",
    "passa25 = loop(repeticoes,dadosL)\n",
    "\n",
    "percentTreino = 0.5 #Proporção entre o comprimento do treinamento e dos dados.\n",
    "passa50 = loop(repeticoes,dadosL)"
   ]
  },
  {
   "cell_type": "code",
   "execution_count": 265,
   "metadata": {},
   "outputs": [
    {
     "data": {
      "image/png": "[encoded data removed]",
      "text/plain": [
       "<Figure size 1512x504 with 3 Axes>"
      ]
     },
     "metadata": {
      "needs_background": "light"
     },
     "output_type": "display_data"
    }
   ],
   "source": [
    "faixas=150\n",
    "\n",
    "data25 = pd.Series(data=passa25)\n",
    "data50 = pd.Series(data=passa50)\n",
    "\n",
    "fig = plt.figure(figsize=(21,7))\n",
    "ax1 = plt.subplot2grid((1,3), (0,0)) #(linhas,col) do grid e depois (linha,col) do item\n",
    "data25.plot.hist(bins=faixas, title='Histograma', density=True, color='blue');\n",
    "\n",
    "ax1 = plt.subplot2grid((1,3), (0, 1))\n",
    "data50.plot.hist(bins=faixas, title='Histograma', density=True, color='red');\n",
    "\n",
    "ax1 = plt.subplot2grid((1,3), (0, 2))\n",
    "data75.plot.hist(bins=faixas, title='Histograma', density=True, color='green');\n",
    "\n",
    "plt.tight_layout()\n",
    "plt.show()\n",
    "\n",
    "# ax1 = plt.subplot2grid((2,3), (1, 2))\n",
    "# dados.Local.value_counts().plot.pie(autopct='%1.0f%%', shadow = True);"
   ]
  },
  {
   "cell_type": "markdown",
   "metadata": {},
   "source": [
    "Superpondo-os:"
   ]
  },
  {
   "cell_type": "code",
   "execution_count": 262,
   "metadata": {},
   "outputs": [
    {
     "data": {
      "image/png": "[encoded data removed]",
      "text/plain": [
       "<Figure size 864x432 with 1 Axes>"
      ]
     },
     "metadata": {
      "needs_background": "light"
     },
     "output_type": "display_data"
    }
   ],
   "source": [
    "faixas=150\n",
    "fig = plt.figure(figsize=(12,6))\n",
    "\n",
    "ax1 = plt.subplot2grid((1,1), (0,0)) #(linhas,col) do grid e depois (linha,col) do item\n",
    "pd.Series(data=passa25).plot.hist(bins=faixas, title='Histograma', density=True, color='blue', alpha=0.6);\n",
    "pd.Series(data=passa50).plot.hist(bins=faixas, title='Histograma', density=True, color='red', alpha=0.6);\n",
    "pd.Series(data=passa75).plot.hist(bins=faixas, title='Histograma', density=True, color='green', alpha=0.6);\n",
    "\n",
    "plt.tight_layout()\n",
    "plt.show()"
   ]
  },
  {
   "cell_type": "markdown",
   "metadata": {},
   "source": [
    "Percebemos que ao aumentar o tamanho do treinamento (diminuir o do teste) deslocamos o histograma para direita, aumentando sua taxa de acerto."
   ]
  },
  {
   "cell_type": "code",
   "execution_count": 204,
   "metadata": {},
   "outputs": [
    {
     "data": {
      "text/html": [
       "<div>\n",
       "<style scoped>\n",
       "    .dataframe tbody tr th:only-of-type {\n",
       "        vertical-align: middle;\n",
       "    }\n",
       "\n",
       "    .dataframe tbody tr th {\n",
       "        vertical-align: top;\n",
       "    }\n",
       "\n",
       "    .dataframe thead th {\n",
       "        text-align: right;\n",
       "    }\n",
       "</style>\n",
       "<table border=\"1\" class=\"dataframe\">\n",
       "  <thead>\n",
       "    <tr style=\"text-align: right;\">\n",
       "      <th></th>\n",
       "      <th>25%</th>\n",
       "      <th>50%</th>\n",
       "      <th>75%</th>\n",
       "    </tr>\n",
       "  </thead>\n",
       "  <tbody>\n",
       "    <tr>\n",
       "      <th>count</th>\n",
       "      <td>10000.000000</td>\n",
       "      <td>10000.000000</td>\n",
       "      <td>10000.000000</td>\n",
       "    </tr>\n",
       "    <tr>\n",
       "      <th>mean</th>\n",
       "      <td>93.873549</td>\n",
       "      <td>95.176619</td>\n",
       "      <td>95.821673</td>\n",
       "    </tr>\n",
       "    <tr>\n",
       "      <th>std</th>\n",
       "      <td>0.345538</td>\n",
       "      <td>0.354972</td>\n",
       "      <td>0.488494</td>\n",
       "    </tr>\n",
       "    <tr>\n",
       "      <th>min</th>\n",
       "      <td>92.151232</td>\n",
       "      <td>93.718593</td>\n",
       "      <td>93.898062</td>\n",
       "    </tr>\n",
       "    <tr>\n",
       "      <th>25%</th>\n",
       "      <td>93.634841</td>\n",
       "      <td>94.938981</td>\n",
       "      <td>95.477387</td>\n",
       "    </tr>\n",
       "    <tr>\n",
       "      <th>50%</th>\n",
       "      <td>93.874133</td>\n",
       "      <td>95.190237</td>\n",
       "      <td>95.836324</td>\n",
       "    </tr>\n",
       "    <tr>\n",
       "      <th>75%</th>\n",
       "      <td>94.113424</td>\n",
       "      <td>95.405599</td>\n",
       "      <td>96.123475</td>\n",
       "    </tr>\n",
       "    <tr>\n",
       "      <th>max</th>\n",
       "      <td>95.285954</td>\n",
       "      <td>96.625987</td>\n",
       "      <td>97.918162</td>\n",
       "    </tr>\n",
       "  </tbody>\n",
       "</table>\n",
       "</div>"
      ],
      "text/plain": [
       "                25%           50%           75%\n",
       "count  10000.000000  10000.000000  10000.000000\n",
       "mean      93.873549     95.176619     95.821673\n",
       "std        0.345538      0.354972      0.488494\n",
       "min       92.151232     93.718593     93.898062\n",
       "25%       93.634841     94.938981     95.477387\n",
       "50%       93.874133     95.190237     95.836324\n",
       "75%       94.113424     95.405599     96.123475\n",
       "max       95.285954     96.625987     97.918162"
      ]
     },
     "execution_count": 204,
     "metadata": {},
     "output_type": "execute_result"
    }
   ],
   "source": [
    "#Fazer dataframe com  media, desvPad, max , min e essas coissas pros 3\n",
    "dic={'25%':data25.describe(),'50%':data50.describe(),'75%':data75.describe()}\n",
    "pd.DataFrame(data=dic)"
   ]
  },
  {
   "cell_type": "markdown",
   "metadata": {},
   "source": [
    "# Conclusão:\n",
    "\n",
    " **Com o objetivo de criar um classificador e separar os emails que chegam na caixa de mensagem, era preciso que a base de dados fosse separada. 75% da base de dados foi para o Treinamento e 25% para o Teste. Mesmo com a base separada, os e-mails vinham com várias informações que atrapalhavam a leitura e a qualidade do classificador. Desta forma, os emails foram limpos e mantidos em uma nova tabela. **\n",
    " \n",
    " **Após separar e limpar a base de dados, criamos a tabela de frequência. Esta nos traz informações de quantas vezes cada palavra apareceu em um e-mail classificado como SPAM e como HAM. Também nos traz a informação da probabilidade de tal palavra aparecer nestes e-mails. **\n",
    " \n",
    "**Depois de obter todas as probabilidades construímos o classificador, que as utiliza para separar automaticamente os e-mails. Este classificador nos retornou a quantidade que realmente eram SPAM ou HAM e a quantidade de e-mails que foram classificados errados. A precisão de acerto é em torno de 95% .**\n",
    "\n",
    "**Estes resultados foram obtidos da base Treinamento, mas era preciso testar sua veracidade. Então dividimos a base de dados em Treinamento e Teste sorteando os emails ao acaso 10 mil vezes para minimizar o erro e chegar mais próximo do resultado plotando os resultados em um histograma. Com isso, podemos dizer que nosso classificador é adequado para a classificação de e-mails para casos que não requeiram uma precisão marior que 95% de acertos. Além disso, a quantidade de Falsos Positivos e Falsos Negativos também foram baixas.**\n"
   ]
  },
  {
   "cell_type": "code",
   "execution_count": null,
   "metadata": {},
   "outputs": [],
   "source": []
  }
 ],
 "metadata": {
  "anaconda-cloud": {},
  "kernelspec": {
   "display_name": "Python 3",
   "language": "python",
   "name": "python3"
  },
  "language_info": {
   "codemirror_mode": {
    "name": "ipython",
    "version": 3
   },
   "file_extension": ".py",
   "mimetype": "text/x-python",
   "name": "python",
   "nbconvert_exporter": "python",
   "pygments_lexer": "ipython3",
   "version": "3.7.0"
  }
 },
 "nbformat": 4,
 "nbformat_minor": 1
}
