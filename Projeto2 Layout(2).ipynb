{
 "cells": [
  {
   "cell_type": "markdown",
   "metadata": {},
   "source": [
    "___\n",
    "# Ciência dos Dados - PROJETO 2"
   ]
  },
  {
   "cell_type": "markdown",
   "metadata": {},
   "source": [
    "___\n",
    "## Nome 1\n",
    "#### Gabriel Couto\n",
    "\n",
    "## Nome 2\n",
    "#### Gabriel Miras\n",
    "\n",
    "## Nome 3\n",
    "#### Mariana Abrantes\n",
    "\n",
    "___"
   ]
  },
  {
   "cell_type": "markdown",
   "metadata": {},
   "source": [
    "___\n",
    "\n",
    "## 1. Problema\n",
    "\n",
    "O Classificador Naive-Bayes, o qual se baseia no uso do teorema de Bayes, é largamente utilizado em filtros anti-spam de e-mails. O classificador permite calcular qual a probabilidade de uma mensagem ser SPAM considerando as palavras em seu conteúdo e, de forma complementar, permite calcular a probabilidade de uma mensagem ser HAM dada as palavras descritas na mensagem.\n",
    "\n",
    "Para realizar o MVP (minimum viable product) do projeto, você precisa programar uma versão do classificador que \"aprende\" o que é uma mensagem SPAM considerando uma base de treinamento e comparar o desempenho dos resultados com uma base de testes. \n"
   ]
  },
  {
   "cell_type": "markdown",
   "metadata": {},
   "source": [
    "___\n",
    "## 2. Separação da base de dados em Treinamento e Teste\n",
    "\n",
    "A base de dados deve ser separada em duas partes, aleatoriamente, considerando: \n",
    "    \n",
    "    75% dos dados para a parte Treinamento; e\n",
    "    25% dos dados para a parte Teste."
   ]
  },
  {
   "cell_type": "code",
   "execution_count": 1,
   "metadata": {},
   "outputs": [
    {
     "name": "stdout",
     "output_type": "stream",
     "text": [
      "Esperamos trabalhar no diretório\n",
      "C:\\Users\\gabri\\Desktop\\Insper Semestre 2DP\\Ciências dos Dados\\CDadosDP-P2 (Miras e e Mari)\n"
     ]
    }
   ],
   "source": [
    "import pandas as pd\n",
    "import os\n",
    "import random\n",
    "import numpy as np\n",
    "\n",
    "#Carregar dados:\n",
    "leitura = pd.ExcelFile('spamham2019(1).xlsx')\n",
    "dados = pd.read_excel(leitura)\n",
    "\n",
    "print('Esperamos trabalhar no diretório')\n",
    "print(os.getcwd())"
   ]
  },
  {
   "cell_type": "code",
   "execution_count": 2,
   "metadata": {},
   "outputs": [],
   "source": [
    "#SEPARAR EM TREINO E TESTE\n",
    "treino=dados.sample(frac=0.75,random_state=200)\n",
    "teste=dados.drop(treino.index)\n",
    "\n",
    "#Cria índices numéricos pros dataframes\n",
    "treino.index = range(len(treino))\n",
    "teste.index = range(len(teste))"
   ]
  },
  {
   "cell_type": "markdown",
   "metadata": {},
   "source": [
    "# Limpando a base de dados"
   ]
  },
  {
   "cell_type": "code",
   "execution_count": 3,
   "metadata": {},
   "outputs": [],
   "source": [
    "#Expressões Regulares:\n",
    "    # a-z = Casa todos os caractéres de a à z (assim como 0-9 casa todos os números de 0 à 9)\n",
    "    #[^X] = Lista Negada de caractéres (Casa todos os carácteres que não tiverem na lista) \n",
    "padrao = r\"[^a-z0-9 ,.]\" # Casa os caractéres que não forem letras (a-z), números, espaço, vírgula e ponto\n",
    "\n",
    "# 1) Converter todos os caractéres pra minúsculas:\n",
    "teste['Email'] = teste['Email'].str.lower()\n",
    "treino['Email'] = treino['Email'].str.lower()\n",
    "\n",
    "# 2) Remover caractéres indicados em padrao:\n",
    "teste.Email = teste.Email.str.replace(padrao,'',regex=True)\n",
    "treino.Email = treino.Email.str.replace(padrao,'',regex=True)"
   ]
  },
  {
   "cell_type": "markdown",
   "metadata": {},
   "source": [
    "##### Criar tabela de frequências de cada palavra:\n",
    "Dicionario tabela de frequências:<br>\n",
    "&emsp; H &emsp; = nº de vezes que determinada palavra aparece em email Ham <br>\n",
    "&emsp; S &emsp; = nº de vezes que determinada palavra aparece em email Spam <br>\n",
    "&emsp; pPiH = P(P∩R) = prob de determinada palavra aparecer num email Ham <br>\n",
    "&emsp; pPiS = P(P∩S) = prob de determinada palavra aparecer num email spam <br>\n",
    "&emsp; pPcH = P(P|H) = prob de determinada palavra aparecer dado que o email é Ham <br>\n",
    "&emsp; pPcS = P(P|S) = prob de determinada palavra aparecer dado que o email é Spam <br>"
   ]
  },
  {
   "cell_type": "code",
   "execution_count": 4,
   "metadata": {},
   "outputs": [],
   "source": [
    "freq = {} #Tabela de frequências \n",
    "for numLinha in range(len(treino.Email)): \n",
    "    palavras_linha = treino.loc[numLinha,'Email'].split(' ')\n",
    "    for palavra in palavras_linha:\n",
    "        if palavra not in freq:\n",
    "            freq[palavra] = {'H':0,'S':0,'pPiH':0,'pPiS':0,'pPcH':0,'pPcS':0}\n",
    "        if treino.loc[numLinha,'Class'] == 'ham':\n",
    "            freq[palavra]['H'] +=1\n",
    "        else:\n",
    "            freq[palavra]['S'] +=1"
   ]
  },
  {
   "cell_type": "code",
   "execution_count": 5,
   "metadata": {},
   "outputs": [],
   "source": [
    "#PH = Prob do email ser Ham | PS = Prob email ser Spam\n",
    "PH = len(treino[treino['Class']=='ham'])/len(treino)\n",
    "PS = len(treino[treino['Class']=='spam'])/len(treino)\n",
    "\n",
    "palavrasH,palavrasS = 0,0 #total de palavras em emails HAM e total de palavras em emails Spam (contando repetições das palavras)\n",
    "for key,valor in freq.items():  \n",
    "    palavrasH += valor['H']\n",
    "    palavrasS += valor['S']\n",
    "totalPalavras = palavrasH + palavrasS\n",
    "\n",
    "for palavra,valor in freq.items():\n",
    "    #Prob de determinada palavra aparecer:\n",
    "    pP = (valor['H']+valor['S'])/totalPalavras\n",
    "    \n",
    "    #adicionamos 1 ao numerador e ao denominador para que a probabilidade nunca dê zero\n",
    "    freq[palavra]['pP'] = pP\n",
    "    freq[palavra]['pPiH'] = (valor['H']+1)/(totalPalavras+1) #(2*totalR+totalI)\n",
    "    freq[palavra]['pPiS'] = (valor['S']+1)/(totalPalavras+1) #/(2*totalI+totalR)\n",
    "    \n",
    "    freq[palavra]['pPcH'] = freq[palavra]['pPiH']/PH\n",
    "    freq[palavra]['pPcS'] = freq[palavra]['pPiS']/PS"
   ]
  },
  {
   "cell_type": "code",
   "execution_count": 6,
   "metadata": {},
   "outputs": [
    {
     "data": {
      "text/html": [
       "<div>\n",
       "<style scoped>\n",
       "    .dataframe tbody tr th:only-of-type {\n",
       "        vertical-align: middle;\n",
       "    }\n",
       "\n",
       "    .dataframe tbody tr th {\n",
       "        vertical-align: top;\n",
       "    }\n",
       "\n",
       "    .dataframe thead th {\n",
       "        text-align: right;\n",
       "    }\n",
       "</style>\n",
       "<table border=\"1\" class=\"dataframe\">\n",
       "  <thead>\n",
       "    <tr style=\"text-align: right;\">\n",
       "      <th></th>\n",
       "      <th>H</th>\n",
       "      <th>S</th>\n",
       "      <th>pP</th>\n",
       "      <th>pPcH</th>\n",
       "      <th>pPcS</th>\n",
       "      <th>pPiH</th>\n",
       "      <th>pPiS</th>\n",
       "    </tr>\n",
       "  </thead>\n",
       "  <tbody>\n",
       "    <tr>\n",
       "      <th>no.</th>\n",
       "      <td>22.0</td>\n",
       "      <td>6.0</td>\n",
       "      <td>0.000427</td>\n",
       "      <td>0.000404</td>\n",
       "      <td>0.000803</td>\n",
       "      <td>0.000350</td>\n",
       "      <td>0.000107</td>\n",
       "    </tr>\n",
       "    <tr>\n",
       "      <th>its</th>\n",
       "      <td>231.0</td>\n",
       "      <td>7.0</td>\n",
       "      <td>0.003627</td>\n",
       "      <td>0.004076</td>\n",
       "      <td>0.000918</td>\n",
       "      <td>0.003535</td>\n",
       "      <td>0.000122</td>\n",
       "    </tr>\n",
       "    <tr>\n",
       "      <th>not</th>\n",
       "      <td>290.0</td>\n",
       "      <td>13.0</td>\n",
       "      <td>0.004617</td>\n",
       "      <td>0.005113</td>\n",
       "      <td>0.001606</td>\n",
       "      <td>0.004434</td>\n",
       "      <td>0.000213</td>\n",
       "    </tr>\n",
       "    <tr>\n",
       "      <th>pride.</th>\n",
       "      <td>1.0</td>\n",
       "      <td>0.0</td>\n",
       "      <td>0.000015</td>\n",
       "      <td>0.000035</td>\n",
       "      <td>0.000115</td>\n",
       "      <td>0.000030</td>\n",
       "      <td>0.000015</td>\n",
       "    </tr>\n",
       "    <tr>\n",
       "      <th>im</th>\n",
       "      <td>340.0</td>\n",
       "      <td>9.0</td>\n",
       "      <td>0.005318</td>\n",
       "      <td>0.005992</td>\n",
       "      <td>0.001147</td>\n",
       "      <td>0.005196</td>\n",
       "      <td>0.000152</td>\n",
       "    </tr>\n",
       "    <tr>\n",
       "      <th>almost</th>\n",
       "      <td>11.0</td>\n",
       "      <td>0.0</td>\n",
       "      <td>0.000168</td>\n",
       "      <td>0.000211</td>\n",
       "      <td>0.000115</td>\n",
       "      <td>0.000183</td>\n",
       "      <td>0.000015</td>\n",
       "    </tr>\n",
       "    <tr>\n",
       "      <th></th>\n",
       "      <td>1027.0</td>\n",
       "      <td>174.0</td>\n",
       "      <td>0.018300</td>\n",
       "      <td>0.018063</td>\n",
       "      <td>0.020078</td>\n",
       "      <td>0.015664</td>\n",
       "      <td>0.002667</td>\n",
       "    </tr>\n",
       "    <tr>\n",
       "      <th>ltgt</th>\n",
       "      <td>219.0</td>\n",
       "      <td>0.0</td>\n",
       "      <td>0.003337</td>\n",
       "      <td>0.003866</td>\n",
       "      <td>0.000115</td>\n",
       "      <td>0.003352</td>\n",
       "      <td>0.000015</td>\n",
       "    </tr>\n",
       "    <tr>\n",
       "      <th>years</th>\n",
       "      <td>14.0</td>\n",
       "      <td>5.0</td>\n",
       "      <td>0.000290</td>\n",
       "      <td>0.000264</td>\n",
       "      <td>0.000688</td>\n",
       "      <td>0.000229</td>\n",
       "      <td>0.000091</td>\n",
       "    </tr>\n",
       "    <tr>\n",
       "      <th>old</th>\n",
       "      <td>13.0</td>\n",
       "      <td>2.0</td>\n",
       "      <td>0.000229</td>\n",
       "      <td>0.000246</td>\n",
       "      <td>0.000344</td>\n",
       "      <td>0.000213</td>\n",
       "      <td>0.000046</td>\n",
       "    </tr>\n",
       "  </tbody>\n",
       "</table>\n",
       "</div>"
      ],
      "text/plain": [
       "             H      S        pP      pPcH      pPcS      pPiH      pPiS\n",
       "no.       22.0    6.0  0.000427  0.000404  0.000803  0.000350  0.000107\n",
       "its      231.0    7.0  0.003627  0.004076  0.000918  0.003535  0.000122\n",
       "not      290.0   13.0  0.004617  0.005113  0.001606  0.004434  0.000213\n",
       "pride.     1.0    0.0  0.000015  0.000035  0.000115  0.000030  0.000015\n",
       "im       340.0    9.0  0.005318  0.005992  0.001147  0.005196  0.000152\n",
       "almost    11.0    0.0  0.000168  0.000211  0.000115  0.000183  0.000015\n",
       "        1027.0  174.0  0.018300  0.018063  0.020078  0.015664  0.002667\n",
       "ltgt     219.0    0.0  0.003337  0.003866  0.000115  0.003352  0.000015\n",
       "years     14.0    5.0  0.000290  0.000264  0.000688  0.000229  0.000091\n",
       "old       13.0    2.0  0.000229  0.000246  0.000344  0.000213  0.000046"
      ]
     },
     "execution_count": 6,
     "metadata": {},
     "output_type": "execute_result"
    }
   ],
   "source": [
    "#Para melhorar a visualização da tabela de frequências colocamos ela num dataframe:\n",
    "tabelapalavras = pd.DataFrame(freq).T\n",
    "tabelapalavras.head(10)"
   ]
  },
  {
   "cell_type": "markdown",
   "metadata": {},
   "source": [
    "___\n",
    "## 3. Classificador Naive-Bayes"
   ]
  },
  {
   "cell_type": "code",
   "execution_count": 7,
   "metadata": {},
   "outputs": [],
   "source": [
    "mensagens={}\n",
    "\n",
    "for numLinha in range(len(teste.Email)): \n",
    "    palavras_linha = teste.loc[numLinha,'Email'].split(' ')\n",
    "    mensagens[numLinha] = {'Email':teste.loc[numLinha,'Email']}\n",
    "    pLH,pLS =1,1    \n",
    "    \n",
    "    for palavra in palavras_linha:       \n",
    "        if palavra in freq:\n",
    "            pLH*= freq[palavra]['pPiH']/freq[palavra]['pP']\n",
    "            pLS*= freq[palavra]['pPiS']/freq[palavra]['pP']\n",
    "    \n",
    "    mensagens[numLinha]['pLH'] = pLH\n",
    "    mensagens[numLinha]['pLS'] = pLS\n",
    "    \n",
    "    if pLS > pLH:\n",
    "        mensagens[numLinha]['Classe'] = 'spam'\n",
    "    else:\n",
    "        mensagens[numLinha]['Classe'] = 'ham'\n",
    "        \n",
    "        #E se a palavra não tiver na tabela de freq finge que ela n existe?"
   ]
  },
  {
   "cell_type": "markdown",
   "metadata": {},
   "source": [
    "___\n",
    "## 4. Qualidade do Classificador alterando a base de treinamento"
   ]
  },
  {
   "cell_type": "code",
   "execution_count": 8,
   "metadata": {},
   "outputs": [
    {
     "name": "stdout",
     "output_type": "stream",
     "text": [
      "Verdadeiros Relevantes :  1199\n",
      "Verdadeiros Irrelevantes :  100\n",
      "Relevantes dados como irrelevantes:  92\n",
      "Irrelevantes dados como relevantes :  2\n",
      "\n",
      "Precisão de acerto dos relevantes: 93.0\n",
      "Precisão de acerto dos irrelevantes: 3.0\n"
     ]
    }
   ],
   "source": [
    "VerRel, VerIre, FalIre, FalRel = 0,0,0,0\n",
    "for numLinha in range(len(mensagens)):\n",
    "    if (teste.loc[numLinha,'Class'] == 'ham')&(mensagens[numLinha]['Classe'] == 'ham'): #Verdadeiro relevante\n",
    "        VerRel+=1\n",
    "    if (teste.loc[numLinha,'Class'] == 'spam')&(mensagens[numLinha]['Classe'] == 'spam'): #Irrelevantes realmente irrelevantes\n",
    "        VerIre+=1\n",
    "    if (teste.loc[numLinha,'Class'] == 'spam')&(mensagens[numLinha]['Classe'] == 'ham'): #Relevantes que foram dados como irrelevantes\n",
    "        FalIre+=1\n",
    "    if (teste.loc[numLinha,'Class'] == 'ham')&(mensagens[numLinha]['Classe'] == 'spam'): #Irrelevantes que foram dados como relevantes\n",
    "        FalRel+=1\n",
    "\n",
    "print('Verdadeiros Relevantes : ',VerRel)\n",
    "print('Verdadeiros Irrelevantes : ',VerIre)\n",
    "print('Relevantes dados como irrelevantes: ',FalIre)\n",
    "print('Irrelevantes dados como relevantes : ',FalRel)\n",
    "print()\n",
    "print('Precisão de acerto dos relevantes:',VerRel/VerRel+FalIre)\n",
    "print('Precisão de acerto dos irrelevantes:',VerIre/VerIre+FalRel)"
   ]
  },
  {
   "cell_type": "code",
   "execution_count": null,
   "metadata": {},
   "outputs": [],
   "source": []
  }
 ],
 "metadata": {
  "anaconda-cloud": {},
  "kernelspec": {
   "display_name": "Python 3",
   "language": "python",
   "name": "python3"
  },
  "language_info": {
   "codemirror_mode": {
    "name": "ipython",
    "version": 3
   },
   "file_extension": ".py",
   "mimetype": "text/x-python",
   "name": "python",
   "nbconvert_exporter": "python",
   "pygments_lexer": "ipython3",
   "version": "3.7.0"
  }
 },
 "nbformat": 4,
 "nbformat_minor": 1
}
